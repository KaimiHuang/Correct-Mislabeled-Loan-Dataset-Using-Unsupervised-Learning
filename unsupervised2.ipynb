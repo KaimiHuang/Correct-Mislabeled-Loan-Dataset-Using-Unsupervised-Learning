{
 "cells": [
  {
   "cell_type": "code",
   "execution_count": 2,
   "id": "4e2d8f57",
   "metadata": {},
   "outputs": [],
   "source": [
    "import pandas as pd\n",
    "pd.options.mode.chained_assignment = None\n",
    "pd.set_option('display.max_columns', None)\n",
    "from sklearn.semi_supervised import LabelPropagation\n",
    "import numpy as np\n",
    "import matplotlib.pyplot as plt\n",
    "import seaborn as sns\n",
    "from sklearn.model_selection import StratifiedShuffleSplit, GridSearchCV\n",
    "from sklearn.ensemble import RandomForestClassifier\n",
    "import xgboost as xgb\n",
    "from sklearn.utils import class_weight\n",
    "from sklearn.preprocessing import StandardScaler\n",
    "from sklearn.mixture import BayesianGaussianMixture, GaussianMixture\n",
    "from sklearn.cluster import KMeans, DBSCAN\n",
    "from sklearn.neighbors import KNeighborsClassifier, kneighbors_graph\n",
    "from sklearn.pipeline import Pipeline\n",
    "from sklearn.linear_model import LogisticRegression, SGDClassifier\n",
    "from sklearn.svm import LinearSVC, SVC\n",
    "from sklearn.metrics import auc, roc_curve, make_scorer, log_loss, recall_score, accuracy_score, classification_report, average_precision_score, precision_recall_curve, roc_curve, confusion_matrix, auc"
   ]
  },
  {
   "cell_type": "code",
   "execution_count": 3,
   "id": "54672ce7-85fc-40ed-b0c8-43a15cbdfd14",
   "metadata": {},
   "outputs": [],
   "source": [
    "from imblearn.over_sampling import SMOTE\n",
    "from imblearn.under_sampling import RandomUnderSampler"
   ]
  },
  {
   "cell_type": "code",
   "execution_count": 4,
   "id": "ae9d54e5",
   "metadata": {},
   "outputs": [],
   "source": [
    "import warnings\n",
    "warnings.filterwarnings(\"ignore\")"
   ]
  },
  {
   "cell_type": "code",
   "execution_count": 5,
   "id": "7887eb24",
   "metadata": {},
   "outputs": [
    {
     "data": {
      "text/plain": [
       "['./main.ipynb',\n",
       " './Loan_Dataset.csv',\n",
       " './project_slides.pdf',\n",
       " './smote.ipynb',\n",
       " './README.md',\n",
       " './unsupervised2.ipynb',\n",
       " './Loan_Dataset_final.csv',\n",
       " './Loan_Dataset_cleaned.csv',\n",
       " './unsupervised1.ipynb']"
      ]
     },
     "execution_count": 5,
     "metadata": {},
     "output_type": "execute_result"
    }
   ],
   "source": [
    "from glob import glob\n",
    "glob('./*')"
   ]
  },
  {
   "cell_type": "code",
   "execution_count": 6,
   "id": "4a1e120d",
   "metadata": {},
   "outputs": [
    {
     "data": {
      "text/html": [
       "<div>\n",
       "<style scoped>\n",
       "    .dataframe tbody tr th:only-of-type {\n",
       "        vertical-align: middle;\n",
       "    }\n",
       "\n",
       "    .dataframe tbody tr th {\n",
       "        vertical-align: top;\n",
       "    }\n",
       "\n",
       "    .dataframe thead th {\n",
       "        text-align: right;\n",
       "    }\n",
       "</style>\n",
       "<table border=\"1\" class=\"dataframe\">\n",
       "  <thead>\n",
       "    <tr style=\"text-align: right;\">\n",
       "      <th></th>\n",
       "      <th>id</th>\n",
       "      <th>emp_length_num</th>\n",
       "      <th>Debt-To-Income Ratio</th>\n",
       "      <th>revol_util</th>\n",
       "      <th>od_ratio</th>\n",
       "      <th>bad_loan</th>\n",
       "      <th>annual_income_log</th>\n",
       "      <th>grade_A</th>\n",
       "      <th>grade_B</th>\n",
       "      <th>grade_C</th>\n",
       "      <th>grade_D</th>\n",
       "      <th>grade_E</th>\n",
       "      <th>grade_F</th>\n",
       "      <th>grade_G</th>\n",
       "      <th>home_ownership_MORTGAGE</th>\n",
       "      <th>home_ownership_OWN</th>\n",
       "      <th>home_ownership_RENT</th>\n",
       "      <th>purpose_car</th>\n",
       "      <th>purpose_credit_card</th>\n",
       "      <th>purpose_debt_consolidation</th>\n",
       "      <th>purpose_home_improvement</th>\n",
       "      <th>purpose_house</th>\n",
       "      <th>purpose_major_purchase</th>\n",
       "      <th>purpose_medical</th>\n",
       "      <th>purpose_moving</th>\n",
       "      <th>purpose_other</th>\n",
       "      <th>purpose_small_business</th>\n",
       "      <th>purpose_vacation</th>\n",
       "      <th>purpose_wedding</th>\n",
       "      <th>term_36 months</th>\n",
       "      <th>term_60 months</th>\n",
       "      <th>last_delinq_none_0</th>\n",
       "      <th>last_delinq_none_1</th>\n",
       "      <th>total_rec_late_fee_cat_non-zero</th>\n",
       "      <th>total_rec_late_fee_cat_zero</th>\n",
       "    </tr>\n",
       "  </thead>\n",
       "  <tbody>\n",
       "    <tr>\n",
       "      <th>0</th>\n",
       "      <td>11454641</td>\n",
       "      <td>1</td>\n",
       "      <td>26.27</td>\n",
       "      <td>43.2</td>\n",
       "      <td>0.160624</td>\n",
       "      <td>0</td>\n",
       "      <td>11.512935</td>\n",
       "      <td>True</td>\n",
       "      <td>False</td>\n",
       "      <td>False</td>\n",
       "      <td>False</td>\n",
       "      <td>False</td>\n",
       "      <td>False</td>\n",
       "      <td>False</td>\n",
       "      <td>False</td>\n",
       "      <td>False</td>\n",
       "      <td>True</td>\n",
       "      <td>False</td>\n",
       "      <td>True</td>\n",
       "      <td>False</td>\n",
       "      <td>False</td>\n",
       "      <td>False</td>\n",
       "      <td>False</td>\n",
       "      <td>False</td>\n",
       "      <td>False</td>\n",
       "      <td>False</td>\n",
       "      <td>False</td>\n",
       "      <td>False</td>\n",
       "      <td>False</td>\n",
       "      <td>True</td>\n",
       "      <td>False</td>\n",
       "      <td>False</td>\n",
       "      <td>True</td>\n",
       "      <td>False</td>\n",
       "      <td>True</td>\n",
       "    </tr>\n",
       "    <tr>\n",
       "      <th>1</th>\n",
       "      <td>9604874</td>\n",
       "      <td>4</td>\n",
       "      <td>5.39</td>\n",
       "      <td>21.5</td>\n",
       "      <td>0.810777</td>\n",
       "      <td>0</td>\n",
       "      <td>11.326608</td>\n",
       "      <td>True</td>\n",
       "      <td>False</td>\n",
       "      <td>False</td>\n",
       "      <td>False</td>\n",
       "      <td>False</td>\n",
       "      <td>False</td>\n",
       "      <td>False</td>\n",
       "      <td>False</td>\n",
       "      <td>True</td>\n",
       "      <td>False</td>\n",
       "      <td>False</td>\n",
       "      <td>True</td>\n",
       "      <td>False</td>\n",
       "      <td>False</td>\n",
       "      <td>False</td>\n",
       "      <td>False</td>\n",
       "      <td>False</td>\n",
       "      <td>False</td>\n",
       "      <td>False</td>\n",
       "      <td>False</td>\n",
       "      <td>False</td>\n",
       "      <td>False</td>\n",
       "      <td>True</td>\n",
       "      <td>False</td>\n",
       "      <td>True</td>\n",
       "      <td>False</td>\n",
       "      <td>False</td>\n",
       "      <td>True</td>\n",
       "    </tr>\n",
       "    <tr>\n",
       "      <th>2</th>\n",
       "      <td>9684700</td>\n",
       "      <td>11</td>\n",
       "      <td>18.45</td>\n",
       "      <td>46.3</td>\n",
       "      <td>0.035147</td>\n",
       "      <td>1</td>\n",
       "      <td>11.264477</td>\n",
       "      <td>False</td>\n",
       "      <td>False</td>\n",
       "      <td>False</td>\n",
       "      <td>True</td>\n",
       "      <td>False</td>\n",
       "      <td>False</td>\n",
       "      <td>False</td>\n",
       "      <td>True</td>\n",
       "      <td>False</td>\n",
       "      <td>False</td>\n",
       "      <td>False</td>\n",
       "      <td>False</td>\n",
       "      <td>True</td>\n",
       "      <td>False</td>\n",
       "      <td>False</td>\n",
       "      <td>False</td>\n",
       "      <td>False</td>\n",
       "      <td>False</td>\n",
       "      <td>False</td>\n",
       "      <td>False</td>\n",
       "      <td>False</td>\n",
       "      <td>False</td>\n",
       "      <td>False</td>\n",
       "      <td>True</td>\n",
       "      <td>False</td>\n",
       "      <td>True</td>\n",
       "      <td>False</td>\n",
       "      <td>True</td>\n",
       "    </tr>\n",
       "    <tr>\n",
       "      <th>3</th>\n",
       "      <td>9695736</td>\n",
       "      <td>6</td>\n",
       "      <td>12.28</td>\n",
       "      <td>10.7</td>\n",
       "      <td>0.534887</td>\n",
       "      <td>1</td>\n",
       "      <td>10.533082</td>\n",
       "      <td>False</td>\n",
       "      <td>False</td>\n",
       "      <td>False</td>\n",
       "      <td>True</td>\n",
       "      <td>False</td>\n",
       "      <td>False</td>\n",
       "      <td>False</td>\n",
       "      <td>True</td>\n",
       "      <td>False</td>\n",
       "      <td>False</td>\n",
       "      <td>False</td>\n",
       "      <td>False</td>\n",
       "      <td>False</td>\n",
       "      <td>False</td>\n",
       "      <td>False</td>\n",
       "      <td>False</td>\n",
       "      <td>True</td>\n",
       "      <td>False</td>\n",
       "      <td>False</td>\n",
       "      <td>False</td>\n",
       "      <td>False</td>\n",
       "      <td>False</td>\n",
       "      <td>False</td>\n",
       "      <td>True</td>\n",
       "      <td>True</td>\n",
       "      <td>False</td>\n",
       "      <td>False</td>\n",
       "      <td>True</td>\n",
       "    </tr>\n",
       "    <tr>\n",
       "      <th>4</th>\n",
       "      <td>9795013</td>\n",
       "      <td>11</td>\n",
       "      <td>11.26</td>\n",
       "      <td>15.2</td>\n",
       "      <td>0.166500</td>\n",
       "      <td>0</td>\n",
       "      <td>11.082158</td>\n",
       "      <td>False</td>\n",
       "      <td>False</td>\n",
       "      <td>False</td>\n",
       "      <td>True</td>\n",
       "      <td>False</td>\n",
       "      <td>False</td>\n",
       "      <td>False</td>\n",
       "      <td>True</td>\n",
       "      <td>False</td>\n",
       "      <td>False</td>\n",
       "      <td>False</td>\n",
       "      <td>False</td>\n",
       "      <td>True</td>\n",
       "      <td>False</td>\n",
       "      <td>False</td>\n",
       "      <td>False</td>\n",
       "      <td>False</td>\n",
       "      <td>False</td>\n",
       "      <td>False</td>\n",
       "      <td>False</td>\n",
       "      <td>False</td>\n",
       "      <td>False</td>\n",
       "      <td>True</td>\n",
       "      <td>False</td>\n",
       "      <td>True</td>\n",
       "      <td>False</td>\n",
       "      <td>False</td>\n",
       "      <td>True</td>\n",
       "    </tr>\n",
       "  </tbody>\n",
       "</table>\n",
       "</div>"
      ],
      "text/plain": [
       "         id  emp_length_num  Debt-To-Income Ratio  revol_util  od_ratio  \\\n",
       "0  11454641               1                 26.27        43.2  0.160624   \n",
       "1   9604874               4                  5.39        21.5  0.810777   \n",
       "2   9684700              11                 18.45        46.3  0.035147   \n",
       "3   9695736               6                 12.28        10.7  0.534887   \n",
       "4   9795013              11                 11.26        15.2  0.166500   \n",
       "\n",
       "   bad_loan  annual_income_log  grade_A  grade_B  grade_C  grade_D  grade_E  \\\n",
       "0         0          11.512935     True    False    False    False    False   \n",
       "1         0          11.326608     True    False    False    False    False   \n",
       "2         1          11.264477    False    False    False     True    False   \n",
       "3         1          10.533082    False    False    False     True    False   \n",
       "4         0          11.082158    False    False    False     True    False   \n",
       "\n",
       "   grade_F  grade_G  home_ownership_MORTGAGE  home_ownership_OWN  \\\n",
       "0    False    False                    False               False   \n",
       "1    False    False                    False                True   \n",
       "2    False    False                     True               False   \n",
       "3    False    False                     True               False   \n",
       "4    False    False                     True               False   \n",
       "\n",
       "   home_ownership_RENT  purpose_car  purpose_credit_card  \\\n",
       "0                 True        False                 True   \n",
       "1                False        False                 True   \n",
       "2                False        False                False   \n",
       "3                False        False                False   \n",
       "4                False        False                False   \n",
       "\n",
       "   purpose_debt_consolidation  purpose_home_improvement  purpose_house  \\\n",
       "0                       False                     False          False   \n",
       "1                       False                     False          False   \n",
       "2                        True                     False          False   \n",
       "3                       False                     False          False   \n",
       "4                        True                     False          False   \n",
       "\n",
       "   purpose_major_purchase  purpose_medical  purpose_moving  purpose_other  \\\n",
       "0                   False            False           False          False   \n",
       "1                   False            False           False          False   \n",
       "2                   False            False           False          False   \n",
       "3                   False             True           False          False   \n",
       "4                   False            False           False          False   \n",
       "\n",
       "   purpose_small_business  purpose_vacation  purpose_wedding  term_36 months  \\\n",
       "0                   False             False            False            True   \n",
       "1                   False             False            False            True   \n",
       "2                   False             False            False           False   \n",
       "3                   False             False            False           False   \n",
       "4                   False             False            False            True   \n",
       "\n",
       "   term_60 months  last_delinq_none_0  last_delinq_none_1  \\\n",
       "0           False               False                True   \n",
       "1           False                True               False   \n",
       "2            True               False                True   \n",
       "3            True                True               False   \n",
       "4           False                True               False   \n",
       "\n",
       "   total_rec_late_fee_cat_non-zero  total_rec_late_fee_cat_zero  \n",
       "0                            False                         True  \n",
       "1                            False                         True  \n",
       "2                            False                         True  \n",
       "3                            False                         True  \n",
       "4                            False                         True  "
      ]
     },
     "execution_count": 6,
     "metadata": {},
     "output_type": "execute_result"
    }
   ],
   "source": [
    "df_ori = pd.read_csv('Loan_Dataset_final.csv')\n",
    "df_ori.head()"
   ]
  },
  {
   "cell_type": "code",
   "execution_count": 7,
   "id": "5fcc322d-6297-4d0b-898c-7e6b4869eb76",
   "metadata": {},
   "outputs": [],
   "source": [
    "def get_metrics(target_test, target_score, target_pred):\n",
    "    precision, recall, thresholds = precision_recall_curve(target_test, target_score)\n",
    "    fpr, tpr, thresholds = roc_curve(target_test, target_score)\n",
    "    pr_auc = average_precision_score(target_test, target_score)\n",
    "    roc_auc = auc(fpr, tpr)\n",
    "    accuracy = accuracy_score(target_test, target_pred)\n",
    "    \n",
    "    #print(f'PR AUC is {pr_auc:.2f}. ROC AUC is {roc_auc:.2f}, Accuracy is {accuracy:.2f}')\n",
    "    return precision, recall, pr_auc, fpr, tpr, roc_auc, accuracy\n",
    "\n",
    "def get_confusion_matrix(target_test, target_pred):\n",
    "    matrix = confusion_matrix(target_test, target_pred)\n",
    "    df = pd.DataFrame(matrix, index=['Actual Negative', 'Actual Positive'], \n",
    "                 columns=['Predicted Negative', 'Predicted Positive'])\n",
    "    return df"
   ]
  },
  {
   "cell_type": "markdown",
   "id": "745071cd-6f99-4f3c-b0a6-493ce6374977",
   "metadata": {},
   "source": [
    "<br> separate the dataset into two by original labels"
   ]
  },
  {
   "cell_type": "code",
   "execution_count": 9,
   "id": "c54b7449",
   "metadata": {},
   "outputs": [],
   "source": [
    "df_0 = df_ori[df_ori.bad_loan == 0]\n",
    "df_1 = df_ori[df_ori.bad_loan == 1]"
   ]
  },
  {
   "cell_type": "markdown",
   "id": "ac29319e-2c49-42be-abed-76919263923d",
   "metadata": {},
   "source": [
    "use Gaussian Mixture to find clusters. setting n_components=2 because of the assumption that some of the observations in the good loans are \n",
    "mislabeled and should have been labeled as bad loans. and the same for the bad loans"
   ]
  },
  {
   "cell_type": "code",
   "execution_count": 11,
   "id": "16ab7a27-e513-464c-899f-2820a5d16744",
   "metadata": {},
   "outputs": [
    {
     "data": {
      "text/html": [
       "<style>#sk-container-id-1 {color: black;background-color: white;}#sk-container-id-1 pre{padding: 0;}#sk-container-id-1 div.sk-toggleable {background-color: white;}#sk-container-id-1 label.sk-toggleable__label {cursor: pointer;display: block;width: 100%;margin-bottom: 0;padding: 0.3em;box-sizing: border-box;text-align: center;}#sk-container-id-1 label.sk-toggleable__label-arrow:before {content: \"▸\";float: left;margin-right: 0.25em;color: #696969;}#sk-container-id-1 label.sk-toggleable__label-arrow:hover:before {color: black;}#sk-container-id-1 div.sk-estimator:hover label.sk-toggleable__label-arrow:before {color: black;}#sk-container-id-1 div.sk-toggleable__content {max-height: 0;max-width: 0;overflow: hidden;text-align: left;background-color: #f0f8ff;}#sk-container-id-1 div.sk-toggleable__content pre {margin: 0.2em;color: black;border-radius: 0.25em;background-color: #f0f8ff;}#sk-container-id-1 input.sk-toggleable__control:checked~div.sk-toggleable__content {max-height: 200px;max-width: 100%;overflow: auto;}#sk-container-id-1 input.sk-toggleable__control:checked~label.sk-toggleable__label-arrow:before {content: \"▾\";}#sk-container-id-1 div.sk-estimator input.sk-toggleable__control:checked~label.sk-toggleable__label {background-color: #d4ebff;}#sk-container-id-1 div.sk-label input.sk-toggleable__control:checked~label.sk-toggleable__label {background-color: #d4ebff;}#sk-container-id-1 input.sk-hidden--visually {border: 0;clip: rect(1px 1px 1px 1px);clip: rect(1px, 1px, 1px, 1px);height: 1px;margin: -1px;overflow: hidden;padding: 0;position: absolute;width: 1px;}#sk-container-id-1 div.sk-estimator {font-family: monospace;background-color: #f0f8ff;border: 1px dotted black;border-radius: 0.25em;box-sizing: border-box;margin-bottom: 0.5em;}#sk-container-id-1 div.sk-estimator:hover {background-color: #d4ebff;}#sk-container-id-1 div.sk-parallel-item::after {content: \"\";width: 100%;border-bottom: 1px solid gray;flex-grow: 1;}#sk-container-id-1 div.sk-label:hover label.sk-toggleable__label {background-color: #d4ebff;}#sk-container-id-1 div.sk-serial::before {content: \"\";position: absolute;border-left: 1px solid gray;box-sizing: border-box;top: 0;bottom: 0;left: 50%;z-index: 0;}#sk-container-id-1 div.sk-serial {display: flex;flex-direction: column;align-items: center;background-color: white;padding-right: 0.2em;padding-left: 0.2em;position: relative;}#sk-container-id-1 div.sk-item {position: relative;z-index: 1;}#sk-container-id-1 div.sk-parallel {display: flex;align-items: stretch;justify-content: center;background-color: white;position: relative;}#sk-container-id-1 div.sk-item::before, #sk-container-id-1 div.sk-parallel-item::before {content: \"\";position: absolute;border-left: 1px solid gray;box-sizing: border-box;top: 0;bottom: 0;left: 50%;z-index: -1;}#sk-container-id-1 div.sk-parallel-item {display: flex;flex-direction: column;z-index: 1;position: relative;background-color: white;}#sk-container-id-1 div.sk-parallel-item:first-child::after {align-self: flex-end;width: 50%;}#sk-container-id-1 div.sk-parallel-item:last-child::after {align-self: flex-start;width: 50%;}#sk-container-id-1 div.sk-parallel-item:only-child::after {width: 0;}#sk-container-id-1 div.sk-dashed-wrapped {border: 1px dashed gray;margin: 0 0.4em 0.5em 0.4em;box-sizing: border-box;padding-bottom: 0.4em;background-color: white;}#sk-container-id-1 div.sk-label label {font-family: monospace;font-weight: bold;display: inline-block;line-height: 1.2em;}#sk-container-id-1 div.sk-label-container {text-align: center;}#sk-container-id-1 div.sk-container {/* jupyter's `normalize.less` sets `[hidden] { display: none; }` but bootstrap.min.css set `[hidden] { display: none !important; }` so we also need the `!important` here to be able to override the default hidden behavior on the sphinx rendered scikit-learn.org. See: https://github.com/scikit-learn/scikit-learn/issues/21755 */display: inline-block !important;position: relative;}#sk-container-id-1 div.sk-text-repr-fallback {display: none;}</style><div id=\"sk-container-id-1\" class=\"sk-top-container\"><div class=\"sk-text-repr-fallback\"><pre>GaussianMixture(n_components=2, n_init=10, random_state=123)</pre><b>In a Jupyter environment, please rerun this cell to show the HTML representation or trust the notebook. <br />On GitHub, the HTML representation is unable to render, please try loading this page with nbviewer.org.</b></div><div class=\"sk-container\" hidden><div class=\"sk-item\"><div class=\"sk-estimator sk-toggleable\"><input class=\"sk-toggleable__control sk-hidden--visually\" id=\"sk-estimator-id-1\" type=\"checkbox\" checked><label for=\"sk-estimator-id-1\" class=\"sk-toggleable__label sk-toggleable__label-arrow\">GaussianMixture</label><div class=\"sk-toggleable__content\"><pre>GaussianMixture(n_components=2, n_init=10, random_state=123)</pre></div></div></div></div></div>"
      ],
      "text/plain": [
       "GaussianMixture(n_components=2, n_init=10, random_state=123)"
      ]
     },
     "execution_count": 11,
     "metadata": {},
     "output_type": "execute_result"
    }
   ],
   "source": [
    "gm = GaussianMixture(n_components=2, n_init=10, random_state=123)\n",
    "gm.fit(df_0)"
   ]
  },
  {
   "cell_type": "code",
   "execution_count": 12,
   "id": "2184b4aa",
   "metadata": {},
   "outputs": [
    {
     "data": {
      "text/plain": [
       "array([0.07557704, 0.92442296])"
      ]
     },
     "execution_count": 12,
     "metadata": {},
     "output_type": "execute_result"
    }
   ],
   "source": [
    "gm.weights_"
   ]
  },
  {
   "cell_type": "code",
   "execution_count": 13,
   "id": "2abe0d98",
   "metadata": {},
   "outputs": [
    {
     "data": {
      "text/plain": [
       "(True, 6)"
      ]
     },
     "execution_count": 13,
     "metadata": {},
     "output_type": "execute_result"
    }
   ],
   "source": [
    "gm.converged_, gm.n_iter_"
   ]
  },
  {
   "cell_type": "code",
   "execution_count": 14,
   "id": "4b90fa4d",
   "metadata": {},
   "outputs": [],
   "source": [
    "gm_labels_for_0 = gm.predict(df_0)"
   ]
  },
  {
   "cell_type": "code",
   "execution_count": 15,
   "id": "7a06ea0c",
   "metadata": {},
   "outputs": [
    {
     "data": {
      "text/plain": [
       "0.924422959079458"
      ]
     },
     "execution_count": 15,
     "metadata": {},
     "output_type": "execute_result"
    }
   ],
   "source": [
    "gm_labels_for_0.mean()"
   ]
  },
  {
   "cell_type": "code",
   "execution_count": 16,
   "id": "17658ec9",
   "metadata": {},
   "outputs": [
    {
     "data": {
      "text/html": [
       "<div>\n",
       "<style scoped>\n",
       "    .dataframe tbody tr th:only-of-type {\n",
       "        vertical-align: middle;\n",
       "    }\n",
       "\n",
       "    .dataframe tbody tr th {\n",
       "        vertical-align: top;\n",
       "    }\n",
       "\n",
       "    .dataframe thead th {\n",
       "        text-align: right;\n",
       "    }\n",
       "</style>\n",
       "<table border=\"1\" class=\"dataframe\">\n",
       "  <thead>\n",
       "    <tr style=\"text-align: right;\">\n",
       "      <th></th>\n",
       "      <th>id</th>\n",
       "      <th>emp_length_num</th>\n",
       "      <th>Debt-To-Income Ratio</th>\n",
       "      <th>revol_util</th>\n",
       "      <th>od_ratio</th>\n",
       "      <th>bad_loan</th>\n",
       "      <th>annual_income_log</th>\n",
       "      <th>grade_A</th>\n",
       "      <th>grade_B</th>\n",
       "      <th>grade_C</th>\n",
       "      <th>grade_D</th>\n",
       "      <th>grade_E</th>\n",
       "      <th>grade_F</th>\n",
       "      <th>grade_G</th>\n",
       "      <th>home_ownership_MORTGAGE</th>\n",
       "      <th>home_ownership_OWN</th>\n",
       "      <th>home_ownership_RENT</th>\n",
       "      <th>purpose_car</th>\n",
       "      <th>purpose_credit_card</th>\n",
       "      <th>purpose_debt_consolidation</th>\n",
       "      <th>purpose_home_improvement</th>\n",
       "      <th>purpose_house</th>\n",
       "      <th>purpose_major_purchase</th>\n",
       "      <th>purpose_medical</th>\n",
       "      <th>purpose_moving</th>\n",
       "      <th>purpose_other</th>\n",
       "      <th>purpose_small_business</th>\n",
       "      <th>purpose_vacation</th>\n",
       "      <th>purpose_wedding</th>\n",
       "      <th>term_36 months</th>\n",
       "      <th>term_60 months</th>\n",
       "      <th>last_delinq_none_0</th>\n",
       "      <th>last_delinq_none_1</th>\n",
       "      <th>total_rec_late_fee_cat_non-zero</th>\n",
       "      <th>total_rec_late_fee_cat_zero</th>\n",
       "      <th>gm_label</th>\n",
       "    </tr>\n",
       "  </thead>\n",
       "  <tbody>\n",
       "    <tr>\n",
       "      <th>0</th>\n",
       "      <td>11454641</td>\n",
       "      <td>1</td>\n",
       "      <td>26.27</td>\n",
       "      <td>43.2</td>\n",
       "      <td>0.160624</td>\n",
       "      <td>0</td>\n",
       "      <td>11.512935</td>\n",
       "      <td>True</td>\n",
       "      <td>False</td>\n",
       "      <td>False</td>\n",
       "      <td>False</td>\n",
       "      <td>False</td>\n",
       "      <td>False</td>\n",
       "      <td>False</td>\n",
       "      <td>False</td>\n",
       "      <td>False</td>\n",
       "      <td>True</td>\n",
       "      <td>False</td>\n",
       "      <td>True</td>\n",
       "      <td>False</td>\n",
       "      <td>False</td>\n",
       "      <td>False</td>\n",
       "      <td>False</td>\n",
       "      <td>False</td>\n",
       "      <td>False</td>\n",
       "      <td>False</td>\n",
       "      <td>False</td>\n",
       "      <td>False</td>\n",
       "      <td>False</td>\n",
       "      <td>True</td>\n",
       "      <td>False</td>\n",
       "      <td>False</td>\n",
       "      <td>True</td>\n",
       "      <td>False</td>\n",
       "      <td>True</td>\n",
       "      <td>1</td>\n",
       "    </tr>\n",
       "    <tr>\n",
       "      <th>1</th>\n",
       "      <td>9604874</td>\n",
       "      <td>4</td>\n",
       "      <td>5.39</td>\n",
       "      <td>21.5</td>\n",
       "      <td>0.810777</td>\n",
       "      <td>0</td>\n",
       "      <td>11.326608</td>\n",
       "      <td>True</td>\n",
       "      <td>False</td>\n",
       "      <td>False</td>\n",
       "      <td>False</td>\n",
       "      <td>False</td>\n",
       "      <td>False</td>\n",
       "      <td>False</td>\n",
       "      <td>False</td>\n",
       "      <td>True</td>\n",
       "      <td>False</td>\n",
       "      <td>False</td>\n",
       "      <td>True</td>\n",
       "      <td>False</td>\n",
       "      <td>False</td>\n",
       "      <td>False</td>\n",
       "      <td>False</td>\n",
       "      <td>False</td>\n",
       "      <td>False</td>\n",
       "      <td>False</td>\n",
       "      <td>False</td>\n",
       "      <td>False</td>\n",
       "      <td>False</td>\n",
       "      <td>True</td>\n",
       "      <td>False</td>\n",
       "      <td>True</td>\n",
       "      <td>False</td>\n",
       "      <td>False</td>\n",
       "      <td>True</td>\n",
       "      <td>1</td>\n",
       "    </tr>\n",
       "    <tr>\n",
       "      <th>4</th>\n",
       "      <td>9795013</td>\n",
       "      <td>11</td>\n",
       "      <td>11.26</td>\n",
       "      <td>15.2</td>\n",
       "      <td>0.166500</td>\n",
       "      <td>0</td>\n",
       "      <td>11.082158</td>\n",
       "      <td>False</td>\n",
       "      <td>False</td>\n",
       "      <td>False</td>\n",
       "      <td>True</td>\n",
       "      <td>False</td>\n",
       "      <td>False</td>\n",
       "      <td>False</td>\n",
       "      <td>True</td>\n",
       "      <td>False</td>\n",
       "      <td>False</td>\n",
       "      <td>False</td>\n",
       "      <td>False</td>\n",
       "      <td>True</td>\n",
       "      <td>False</td>\n",
       "      <td>False</td>\n",
       "      <td>False</td>\n",
       "      <td>False</td>\n",
       "      <td>False</td>\n",
       "      <td>False</td>\n",
       "      <td>False</td>\n",
       "      <td>False</td>\n",
       "      <td>False</td>\n",
       "      <td>True</td>\n",
       "      <td>False</td>\n",
       "      <td>True</td>\n",
       "      <td>False</td>\n",
       "      <td>False</td>\n",
       "      <td>True</td>\n",
       "      <td>1</td>\n",
       "    </tr>\n",
       "    <tr>\n",
       "      <th>7</th>\n",
       "      <td>7450630</td>\n",
       "      <td>1</td>\n",
       "      <td>6.41</td>\n",
       "      <td>55.9</td>\n",
       "      <td>0.238576</td>\n",
       "      <td>0</td>\n",
       "      <td>11.472114</td>\n",
       "      <td>False</td>\n",
       "      <td>False</td>\n",
       "      <td>False</td>\n",
       "      <td>True</td>\n",
       "      <td>False</td>\n",
       "      <td>False</td>\n",
       "      <td>False</td>\n",
       "      <td>False</td>\n",
       "      <td>False</td>\n",
       "      <td>True</td>\n",
       "      <td>False</td>\n",
       "      <td>False</td>\n",
       "      <td>False</td>\n",
       "      <td>False</td>\n",
       "      <td>False</td>\n",
       "      <td>False</td>\n",
       "      <td>False</td>\n",
       "      <td>False</td>\n",
       "      <td>True</td>\n",
       "      <td>False</td>\n",
       "      <td>False</td>\n",
       "      <td>False</td>\n",
       "      <td>True</td>\n",
       "      <td>False</td>\n",
       "      <td>True</td>\n",
       "      <td>False</td>\n",
       "      <td>False</td>\n",
       "      <td>True</td>\n",
       "      <td>1</td>\n",
       "    </tr>\n",
       "    <tr>\n",
       "      <th>8</th>\n",
       "      <td>9767996</td>\n",
       "      <td>11</td>\n",
       "      <td>26.27</td>\n",
       "      <td>94.1</td>\n",
       "      <td>0.674835</td>\n",
       "      <td>0</td>\n",
       "      <td>11.002117</td>\n",
       "      <td>False</td>\n",
       "      <td>False</td>\n",
       "      <td>False</td>\n",
       "      <td>False</td>\n",
       "      <td>False</td>\n",
       "      <td>False</td>\n",
       "      <td>True</td>\n",
       "      <td>True</td>\n",
       "      <td>False</td>\n",
       "      <td>False</td>\n",
       "      <td>False</td>\n",
       "      <td>False</td>\n",
       "      <td>False</td>\n",
       "      <td>False</td>\n",
       "      <td>False</td>\n",
       "      <td>False</td>\n",
       "      <td>True</td>\n",
       "      <td>False</td>\n",
       "      <td>False</td>\n",
       "      <td>False</td>\n",
       "      <td>False</td>\n",
       "      <td>False</td>\n",
       "      <td>False</td>\n",
       "      <td>True</td>\n",
       "      <td>True</td>\n",
       "      <td>False</td>\n",
       "      <td>False</td>\n",
       "      <td>True</td>\n",
       "      <td>1</td>\n",
       "    </tr>\n",
       "  </tbody>\n",
       "</table>\n",
       "</div>"
      ],
      "text/plain": [
       "         id  emp_length_num  Debt-To-Income Ratio  revol_util  od_ratio  \\\n",
       "0  11454641               1                 26.27        43.2  0.160624   \n",
       "1   9604874               4                  5.39        21.5  0.810777   \n",
       "4   9795013              11                 11.26        15.2  0.166500   \n",
       "7   7450630               1                  6.41        55.9  0.238576   \n",
       "8   9767996              11                 26.27        94.1  0.674835   \n",
       "\n",
       "   bad_loan  annual_income_log  grade_A  grade_B  grade_C  grade_D  grade_E  \\\n",
       "0         0          11.512935     True    False    False    False    False   \n",
       "1         0          11.326608     True    False    False    False    False   \n",
       "4         0          11.082158    False    False    False     True    False   \n",
       "7         0          11.472114    False    False    False     True    False   \n",
       "8         0          11.002117    False    False    False    False    False   \n",
       "\n",
       "   grade_F  grade_G  home_ownership_MORTGAGE  home_ownership_OWN  \\\n",
       "0    False    False                    False               False   \n",
       "1    False    False                    False                True   \n",
       "4    False    False                     True               False   \n",
       "7    False    False                    False               False   \n",
       "8    False     True                     True               False   \n",
       "\n",
       "   home_ownership_RENT  purpose_car  purpose_credit_card  \\\n",
       "0                 True        False                 True   \n",
       "1                False        False                 True   \n",
       "4                False        False                False   \n",
       "7                 True        False                False   \n",
       "8                False        False                False   \n",
       "\n",
       "   purpose_debt_consolidation  purpose_home_improvement  purpose_house  \\\n",
       "0                       False                     False          False   \n",
       "1                       False                     False          False   \n",
       "4                        True                     False          False   \n",
       "7                       False                     False          False   \n",
       "8                       False                     False          False   \n",
       "\n",
       "   purpose_major_purchase  purpose_medical  purpose_moving  purpose_other  \\\n",
       "0                   False            False           False          False   \n",
       "1                   False            False           False          False   \n",
       "4                   False            False           False          False   \n",
       "7                   False            False           False           True   \n",
       "8                   False             True           False          False   \n",
       "\n",
       "   purpose_small_business  purpose_vacation  purpose_wedding  term_36 months  \\\n",
       "0                   False             False            False            True   \n",
       "1                   False             False            False            True   \n",
       "4                   False             False            False            True   \n",
       "7                   False             False            False            True   \n",
       "8                   False             False            False           False   \n",
       "\n",
       "   term_60 months  last_delinq_none_0  last_delinq_none_1  \\\n",
       "0           False               False                True   \n",
       "1           False                True               False   \n",
       "4           False                True               False   \n",
       "7           False                True               False   \n",
       "8            True                True               False   \n",
       "\n",
       "   total_rec_late_fee_cat_non-zero  total_rec_late_fee_cat_zero  gm_label  \n",
       "0                            False                         True         1  \n",
       "1                            False                         True         1  \n",
       "4                            False                         True         1  \n",
       "7                            False                         True         1  \n",
       "8                            False                         True         1  "
      ]
     },
     "execution_count": 16,
     "metadata": {},
     "output_type": "execute_result"
    }
   ],
   "source": [
    "df_0['gm_label'] = gm_labels_for_0\n",
    "df_0.head()"
   ]
  },
  {
   "cell_type": "code",
   "execution_count": 17,
   "id": "49d8693b",
   "metadata": {},
   "outputs": [
    {
     "data": {
      "text/html": [
       "<style>#sk-container-id-2 {color: black;background-color: white;}#sk-container-id-2 pre{padding: 0;}#sk-container-id-2 div.sk-toggleable {background-color: white;}#sk-container-id-2 label.sk-toggleable__label {cursor: pointer;display: block;width: 100%;margin-bottom: 0;padding: 0.3em;box-sizing: border-box;text-align: center;}#sk-container-id-2 label.sk-toggleable__label-arrow:before {content: \"▸\";float: left;margin-right: 0.25em;color: #696969;}#sk-container-id-2 label.sk-toggleable__label-arrow:hover:before {color: black;}#sk-container-id-2 div.sk-estimator:hover label.sk-toggleable__label-arrow:before {color: black;}#sk-container-id-2 div.sk-toggleable__content {max-height: 0;max-width: 0;overflow: hidden;text-align: left;background-color: #f0f8ff;}#sk-container-id-2 div.sk-toggleable__content pre {margin: 0.2em;color: black;border-radius: 0.25em;background-color: #f0f8ff;}#sk-container-id-2 input.sk-toggleable__control:checked~div.sk-toggleable__content {max-height: 200px;max-width: 100%;overflow: auto;}#sk-container-id-2 input.sk-toggleable__control:checked~label.sk-toggleable__label-arrow:before {content: \"▾\";}#sk-container-id-2 div.sk-estimator input.sk-toggleable__control:checked~label.sk-toggleable__label {background-color: #d4ebff;}#sk-container-id-2 div.sk-label input.sk-toggleable__control:checked~label.sk-toggleable__label {background-color: #d4ebff;}#sk-container-id-2 input.sk-hidden--visually {border: 0;clip: rect(1px 1px 1px 1px);clip: rect(1px, 1px, 1px, 1px);height: 1px;margin: -1px;overflow: hidden;padding: 0;position: absolute;width: 1px;}#sk-container-id-2 div.sk-estimator {font-family: monospace;background-color: #f0f8ff;border: 1px dotted black;border-radius: 0.25em;box-sizing: border-box;margin-bottom: 0.5em;}#sk-container-id-2 div.sk-estimator:hover {background-color: #d4ebff;}#sk-container-id-2 div.sk-parallel-item::after {content: \"\";width: 100%;border-bottom: 1px solid gray;flex-grow: 1;}#sk-container-id-2 div.sk-label:hover label.sk-toggleable__label {background-color: #d4ebff;}#sk-container-id-2 div.sk-serial::before {content: \"\";position: absolute;border-left: 1px solid gray;box-sizing: border-box;top: 0;bottom: 0;left: 50%;z-index: 0;}#sk-container-id-2 div.sk-serial {display: flex;flex-direction: column;align-items: center;background-color: white;padding-right: 0.2em;padding-left: 0.2em;position: relative;}#sk-container-id-2 div.sk-item {position: relative;z-index: 1;}#sk-container-id-2 div.sk-parallel {display: flex;align-items: stretch;justify-content: center;background-color: white;position: relative;}#sk-container-id-2 div.sk-item::before, #sk-container-id-2 div.sk-parallel-item::before {content: \"\";position: absolute;border-left: 1px solid gray;box-sizing: border-box;top: 0;bottom: 0;left: 50%;z-index: -1;}#sk-container-id-2 div.sk-parallel-item {display: flex;flex-direction: column;z-index: 1;position: relative;background-color: white;}#sk-container-id-2 div.sk-parallel-item:first-child::after {align-self: flex-end;width: 50%;}#sk-container-id-2 div.sk-parallel-item:last-child::after {align-self: flex-start;width: 50%;}#sk-container-id-2 div.sk-parallel-item:only-child::after {width: 0;}#sk-container-id-2 div.sk-dashed-wrapped {border: 1px dashed gray;margin: 0 0.4em 0.5em 0.4em;box-sizing: border-box;padding-bottom: 0.4em;background-color: white;}#sk-container-id-2 div.sk-label label {font-family: monospace;font-weight: bold;display: inline-block;line-height: 1.2em;}#sk-container-id-2 div.sk-label-container {text-align: center;}#sk-container-id-2 div.sk-container {/* jupyter's `normalize.less` sets `[hidden] { display: none; }` but bootstrap.min.css set `[hidden] { display: none !important; }` so we also need the `!important` here to be able to override the default hidden behavior on the sphinx rendered scikit-learn.org. See: https://github.com/scikit-learn/scikit-learn/issues/21755 */display: inline-block !important;position: relative;}#sk-container-id-2 div.sk-text-repr-fallback {display: none;}</style><div id=\"sk-container-id-2\" class=\"sk-top-container\"><div class=\"sk-text-repr-fallback\"><pre>GaussianMixture(n_components=2, n_init=10, random_state=123)</pre><b>In a Jupyter environment, please rerun this cell to show the HTML representation or trust the notebook. <br />On GitHub, the HTML representation is unable to render, please try loading this page with nbviewer.org.</b></div><div class=\"sk-container\" hidden><div class=\"sk-item\"><div class=\"sk-estimator sk-toggleable\"><input class=\"sk-toggleable__control sk-hidden--visually\" id=\"sk-estimator-id-2\" type=\"checkbox\" checked><label for=\"sk-estimator-id-2\" class=\"sk-toggleable__label sk-toggleable__label-arrow\">GaussianMixture</label><div class=\"sk-toggleable__content\"><pre>GaussianMixture(n_components=2, n_init=10, random_state=123)</pre></div></div></div></div></div>"
      ],
      "text/plain": [
       "GaussianMixture(n_components=2, n_init=10, random_state=123)"
      ]
     },
     "execution_count": 17,
     "metadata": {},
     "output_type": "execute_result"
    }
   ],
   "source": [
    "gm2 = GaussianMixture(n_components=2, n_init=10, random_state=123)\n",
    "gm2.fit(df_1)"
   ]
  },
  {
   "cell_type": "code",
   "execution_count": 18,
   "id": "95a650fe",
   "metadata": {},
   "outputs": [
    {
     "data": {
      "text/plain": [
       "array([0.23773852, 0.76226148])"
      ]
     },
     "execution_count": 18,
     "metadata": {},
     "output_type": "execute_result"
    }
   ],
   "source": [
    "gm2.weights_"
   ]
  },
  {
   "cell_type": "code",
   "execution_count": 19,
   "id": "b7917969",
   "metadata": {},
   "outputs": [
    {
     "data": {
      "text/plain": [
       "(True, 8)"
      ]
     },
     "execution_count": 19,
     "metadata": {},
     "output_type": "execute_result"
    }
   ],
   "source": [
    "gm2.converged_, gm2.n_iter_"
   ]
  },
  {
   "cell_type": "code",
   "execution_count": 20,
   "id": "ef6e4d37",
   "metadata": {},
   "outputs": [],
   "source": [
    "gm_labels_for_1 = gm.predict(df_1)"
   ]
  },
  {
   "cell_type": "code",
   "execution_count": 21,
   "id": "f0a38b36",
   "metadata": {},
   "outputs": [
    {
     "data": {
      "text/plain": [
       "0.8322020092316047"
      ]
     },
     "execution_count": 21,
     "metadata": {},
     "output_type": "execute_result"
    }
   ],
   "source": [
    "gm_labels_for_1.mean()"
   ]
  },
  {
   "cell_type": "code",
   "execution_count": 22,
   "id": "1758eb79",
   "metadata": {},
   "outputs": [
    {
     "data": {
      "text/html": [
       "<div>\n",
       "<style scoped>\n",
       "    .dataframe tbody tr th:only-of-type {\n",
       "        vertical-align: middle;\n",
       "    }\n",
       "\n",
       "    .dataframe tbody tr th {\n",
       "        vertical-align: top;\n",
       "    }\n",
       "\n",
       "    .dataframe thead th {\n",
       "        text-align: right;\n",
       "    }\n",
       "</style>\n",
       "<table border=\"1\" class=\"dataframe\">\n",
       "  <thead>\n",
       "    <tr style=\"text-align: right;\">\n",
       "      <th></th>\n",
       "      <th>id</th>\n",
       "      <th>emp_length_num</th>\n",
       "      <th>Debt-To-Income Ratio</th>\n",
       "      <th>revol_util</th>\n",
       "      <th>od_ratio</th>\n",
       "      <th>bad_loan</th>\n",
       "      <th>annual_income_log</th>\n",
       "      <th>grade_A</th>\n",
       "      <th>grade_B</th>\n",
       "      <th>grade_C</th>\n",
       "      <th>grade_D</th>\n",
       "      <th>grade_E</th>\n",
       "      <th>grade_F</th>\n",
       "      <th>grade_G</th>\n",
       "      <th>home_ownership_MORTGAGE</th>\n",
       "      <th>home_ownership_OWN</th>\n",
       "      <th>home_ownership_RENT</th>\n",
       "      <th>purpose_car</th>\n",
       "      <th>purpose_credit_card</th>\n",
       "      <th>purpose_debt_consolidation</th>\n",
       "      <th>purpose_home_improvement</th>\n",
       "      <th>purpose_house</th>\n",
       "      <th>purpose_major_purchase</th>\n",
       "      <th>purpose_medical</th>\n",
       "      <th>purpose_moving</th>\n",
       "      <th>purpose_other</th>\n",
       "      <th>purpose_small_business</th>\n",
       "      <th>purpose_vacation</th>\n",
       "      <th>purpose_wedding</th>\n",
       "      <th>term_36 months</th>\n",
       "      <th>term_60 months</th>\n",
       "      <th>last_delinq_none_0</th>\n",
       "      <th>last_delinq_none_1</th>\n",
       "      <th>total_rec_late_fee_cat_non-zero</th>\n",
       "      <th>total_rec_late_fee_cat_zero</th>\n",
       "      <th>gm_label</th>\n",
       "    </tr>\n",
       "  </thead>\n",
       "  <tbody>\n",
       "    <tr>\n",
       "      <th>2</th>\n",
       "      <td>9684700</td>\n",
       "      <td>11</td>\n",
       "      <td>18.45</td>\n",
       "      <td>46.3</td>\n",
       "      <td>0.035147</td>\n",
       "      <td>1</td>\n",
       "      <td>11.264477</td>\n",
       "      <td>False</td>\n",
       "      <td>False</td>\n",
       "      <td>False</td>\n",
       "      <td>True</td>\n",
       "      <td>False</td>\n",
       "      <td>False</td>\n",
       "      <td>False</td>\n",
       "      <td>True</td>\n",
       "      <td>False</td>\n",
       "      <td>False</td>\n",
       "      <td>False</td>\n",
       "      <td>False</td>\n",
       "      <td>True</td>\n",
       "      <td>False</td>\n",
       "      <td>False</td>\n",
       "      <td>False</td>\n",
       "      <td>False</td>\n",
       "      <td>False</td>\n",
       "      <td>False</td>\n",
       "      <td>False</td>\n",
       "      <td>False</td>\n",
       "      <td>False</td>\n",
       "      <td>False</td>\n",
       "      <td>True</td>\n",
       "      <td>False</td>\n",
       "      <td>True</td>\n",
       "      <td>False</td>\n",
       "      <td>True</td>\n",
       "      <td>1</td>\n",
       "    </tr>\n",
       "    <tr>\n",
       "      <th>3</th>\n",
       "      <td>9695736</td>\n",
       "      <td>6</td>\n",
       "      <td>12.28</td>\n",
       "      <td>10.7</td>\n",
       "      <td>0.534887</td>\n",
       "      <td>1</td>\n",
       "      <td>10.533082</td>\n",
       "      <td>False</td>\n",
       "      <td>False</td>\n",
       "      <td>False</td>\n",
       "      <td>True</td>\n",
       "      <td>False</td>\n",
       "      <td>False</td>\n",
       "      <td>False</td>\n",
       "      <td>True</td>\n",
       "      <td>False</td>\n",
       "      <td>False</td>\n",
       "      <td>False</td>\n",
       "      <td>False</td>\n",
       "      <td>False</td>\n",
       "      <td>False</td>\n",
       "      <td>False</td>\n",
       "      <td>False</td>\n",
       "      <td>True</td>\n",
       "      <td>False</td>\n",
       "      <td>False</td>\n",
       "      <td>False</td>\n",
       "      <td>False</td>\n",
       "      <td>False</td>\n",
       "      <td>False</td>\n",
       "      <td>True</td>\n",
       "      <td>True</td>\n",
       "      <td>False</td>\n",
       "      <td>False</td>\n",
       "      <td>True</td>\n",
       "      <td>1</td>\n",
       "    </tr>\n",
       "    <tr>\n",
       "      <th>5</th>\n",
       "      <td>9856168</td>\n",
       "      <td>0</td>\n",
       "      <td>1.50</td>\n",
       "      <td>14.6</td>\n",
       "      <td>0.308410</td>\n",
       "      <td>1</td>\n",
       "      <td>10.727685</td>\n",
       "      <td>False</td>\n",
       "      <td>False</td>\n",
       "      <td>False</td>\n",
       "      <td>False</td>\n",
       "      <td>True</td>\n",
       "      <td>False</td>\n",
       "      <td>False</td>\n",
       "      <td>True</td>\n",
       "      <td>False</td>\n",
       "      <td>False</td>\n",
       "      <td>False</td>\n",
       "      <td>False</td>\n",
       "      <td>False</td>\n",
       "      <td>False</td>\n",
       "      <td>False</td>\n",
       "      <td>False</td>\n",
       "      <td>True</td>\n",
       "      <td>False</td>\n",
       "      <td>False</td>\n",
       "      <td>False</td>\n",
       "      <td>False</td>\n",
       "      <td>False</td>\n",
       "      <td>False</td>\n",
       "      <td>True</td>\n",
       "      <td>True</td>\n",
       "      <td>False</td>\n",
       "      <td>False</td>\n",
       "      <td>True</td>\n",
       "      <td>1</td>\n",
       "    </tr>\n",
       "    <tr>\n",
       "      <th>6</th>\n",
       "      <td>9825536</td>\n",
       "      <td>5</td>\n",
       "      <td>18.69</td>\n",
       "      <td>29.5</td>\n",
       "      <td>0.045062</td>\n",
       "      <td>1</td>\n",
       "      <td>10.714440</td>\n",
       "      <td>False</td>\n",
       "      <td>True</td>\n",
       "      <td>False</td>\n",
       "      <td>False</td>\n",
       "      <td>False</td>\n",
       "      <td>False</td>\n",
       "      <td>False</td>\n",
       "      <td>True</td>\n",
       "      <td>False</td>\n",
       "      <td>False</td>\n",
       "      <td>False</td>\n",
       "      <td>False</td>\n",
       "      <td>True</td>\n",
       "      <td>False</td>\n",
       "      <td>False</td>\n",
       "      <td>False</td>\n",
       "      <td>False</td>\n",
       "      <td>False</td>\n",
       "      <td>False</td>\n",
       "      <td>False</td>\n",
       "      <td>False</td>\n",
       "      <td>False</td>\n",
       "      <td>True</td>\n",
       "      <td>False</td>\n",
       "      <td>True</td>\n",
       "      <td>False</td>\n",
       "      <td>False</td>\n",
       "      <td>True</td>\n",
       "      <td>1</td>\n",
       "    </tr>\n",
       "    <tr>\n",
       "      <th>12</th>\n",
       "      <td>9808485</td>\n",
       "      <td>1</td>\n",
       "      <td>26.21</td>\n",
       "      <td>28.4</td>\n",
       "      <td>0.524121</td>\n",
       "      <td>1</td>\n",
       "      <td>10.616462</td>\n",
       "      <td>False</td>\n",
       "      <td>False</td>\n",
       "      <td>True</td>\n",
       "      <td>False</td>\n",
       "      <td>False</td>\n",
       "      <td>False</td>\n",
       "      <td>False</td>\n",
       "      <td>False</td>\n",
       "      <td>True</td>\n",
       "      <td>False</td>\n",
       "      <td>False</td>\n",
       "      <td>True</td>\n",
       "      <td>False</td>\n",
       "      <td>False</td>\n",
       "      <td>False</td>\n",
       "      <td>False</td>\n",
       "      <td>False</td>\n",
       "      <td>False</td>\n",
       "      <td>False</td>\n",
       "      <td>False</td>\n",
       "      <td>False</td>\n",
       "      <td>False</td>\n",
       "      <td>True</td>\n",
       "      <td>False</td>\n",
       "      <td>False</td>\n",
       "      <td>True</td>\n",
       "      <td>False</td>\n",
       "      <td>True</td>\n",
       "      <td>1</td>\n",
       "    </tr>\n",
       "  </tbody>\n",
       "</table>\n",
       "</div>"
      ],
      "text/plain": [
       "         id  emp_length_num  Debt-To-Income Ratio  revol_util  od_ratio  \\\n",
       "2   9684700              11                 18.45        46.3  0.035147   \n",
       "3   9695736               6                 12.28        10.7  0.534887   \n",
       "5   9856168               0                  1.50        14.6  0.308410   \n",
       "6   9825536               5                 18.69        29.5  0.045062   \n",
       "12  9808485               1                 26.21        28.4  0.524121   \n",
       "\n",
       "    bad_loan  annual_income_log  grade_A  grade_B  grade_C  grade_D  grade_E  \\\n",
       "2          1          11.264477    False    False    False     True    False   \n",
       "3          1          10.533082    False    False    False     True    False   \n",
       "5          1          10.727685    False    False    False    False     True   \n",
       "6          1          10.714440    False     True    False    False    False   \n",
       "12         1          10.616462    False    False     True    False    False   \n",
       "\n",
       "    grade_F  grade_G  home_ownership_MORTGAGE  home_ownership_OWN  \\\n",
       "2     False    False                     True               False   \n",
       "3     False    False                     True               False   \n",
       "5     False    False                     True               False   \n",
       "6     False    False                     True               False   \n",
       "12    False    False                    False                True   \n",
       "\n",
       "    home_ownership_RENT  purpose_car  purpose_credit_card  \\\n",
       "2                 False        False                False   \n",
       "3                 False        False                False   \n",
       "5                 False        False                False   \n",
       "6                 False        False                False   \n",
       "12                False        False                 True   \n",
       "\n",
       "    purpose_debt_consolidation  purpose_home_improvement  purpose_house  \\\n",
       "2                         True                     False          False   \n",
       "3                        False                     False          False   \n",
       "5                        False                     False          False   \n",
       "6                         True                     False          False   \n",
       "12                       False                     False          False   \n",
       "\n",
       "    purpose_major_purchase  purpose_medical  purpose_moving  purpose_other  \\\n",
       "2                    False            False           False          False   \n",
       "3                    False             True           False          False   \n",
       "5                    False             True           False          False   \n",
       "6                    False            False           False          False   \n",
       "12                   False            False           False          False   \n",
       "\n",
       "    purpose_small_business  purpose_vacation  purpose_wedding  term_36 months  \\\n",
       "2                    False             False            False           False   \n",
       "3                    False             False            False           False   \n",
       "5                    False             False            False           False   \n",
       "6                    False             False            False            True   \n",
       "12                   False             False            False            True   \n",
       "\n",
       "    term_60 months  last_delinq_none_0  last_delinq_none_1  \\\n",
       "2             True               False                True   \n",
       "3             True                True               False   \n",
       "5             True                True               False   \n",
       "6            False                True               False   \n",
       "12           False               False                True   \n",
       "\n",
       "    total_rec_late_fee_cat_non-zero  total_rec_late_fee_cat_zero  gm_label  \n",
       "2                             False                         True         1  \n",
       "3                             False                         True         1  \n",
       "5                             False                         True         1  \n",
       "6                             False                         True         1  \n",
       "12                            False                         True         1  "
      ]
     },
     "execution_count": 22,
     "metadata": {},
     "output_type": "execute_result"
    }
   ],
   "source": [
    "df_1['gm_label'] = gm_labels_for_1\n",
    "df_1.head()"
   ]
  },
  {
   "cell_type": "markdown",
   "id": "0d57578b-f7c3-4494-a978-4eb035e500ec",
   "metadata": {},
   "source": [
    "<br>\n",
    "now we have a total of 4 clusters - let's name them a, b, c, d: <br>\n",
    "cluster a: orginal label = 0 and gm label = 0<br>\n",
    "cluster b: orginal label = 0 and gm label = 1<br>\n",
    "cluster c: orginal label = 1 and gm label = 0<br>\n",
    "cluster d: orginal label = 1 and gm label = 1<br>\n",
    "<br>\n",
    "but we still do not know the data points' true labels. and since we do not have the ground truth, we can only rely on using classifiers to find the label assginemnt that can convey the correct signal from data to a classifier. the algorithm is as followed: <br>\n",
    "- there are a total of 12 (4*3) combinations<br>\n",
    "- for each cluster, assign all data points the label 0<br>\n",
    "- for each of the other clusters, assign the data points the label 1<br>\n",
    "- for each combination of 0-labled and 1-labeled datasets, train and test a logistic regression classifier<br>\n",
    "- for all the combinations, collect and compare the performances of the classifiers<br>"
   ]
  },
  {
   "cell_type": "code",
   "execution_count": 24,
   "id": "48814681",
   "metadata": {},
   "outputs": [],
   "source": [
    "df_0.reset_index(drop=True, inplace=True)\n",
    "df_1.reset_index(drop=True, inplace=True)\n",
    "\n",
    "clusters = {\n",
    "    'cluster_a' : df_0[df_0.gm_label == 0],\n",
    "    'cluster_b' : df_0[df_0.gm_label == 1],\n",
    "    'cluster_c' : df_1[df_0.gm_label == 0],\n",
    "    'cluster_d' : df_1[df_0.gm_label == 1]\n",
    "}"
   ]
  },
  {
   "cell_type": "code",
   "execution_count": 25,
   "id": "50f28b98-2fac-4f78-b497-6387a42c58e4",
   "metadata": {},
   "outputs": [],
   "source": [
    "def train_test_pipeline(dataframe):\n",
    "    X = dataframe.drop(columns=['id', \n",
    "                                 'new_label',\n",
    "                                 'grade_A',\n",
    "                                 'home_ownership_MORTGAGE',\n",
    "                                 'purpose_car',\n",
    "                                 'term_36 months',\n",
    "                                 'last_delinq_none_0', \n",
    "                                 'total_rec_late_fee_cat_zero'])\n",
    "    y = dataframe['new_label']\n",
    "\n",
    "    #separate dataset into train and test sets\n",
    "    sss = StratifiedShuffleSplit(n_splits=1, test_size=0.2, train_size=0.8, random_state=123)\n",
    "    train_ind, test_ind = next(sss.split(X, y, groups=None))\n",
    "    X_train, y_train, X_test, y_test = X.iloc[train_ind], y.iloc[train_ind], X.iloc[test_ind], y.iloc[test_ind]\n",
    "    \n",
    "    #standardize data\n",
    "    scaler = StandardScaler()\n",
    "    X_train = scaler.fit_transform(X_train)\n",
    "    X_test = scaler.transform(X_test)\n",
    "\n",
    "    #train a logistric regression classifier\n",
    "    lg_clf = LogisticRegression(class_weight='balanced', random_state = 123)\n",
    "    lg_clf.fit(X_train, y_train)\n",
    "    y_pred = lg_clf.predict(X_test)\n",
    "    y_score = lg_clf.predict_proba(X_test)[:, 1]\n",
    "    lg_precision, lg_recall, lg_pr_auc, lg_fpr, lg_tpr, lg_roc_auc, lg_accuracy = get_metrics(y_test, y_score, y_pred)\n",
    "    \n",
    "    return lg_pr_auc, lg_roc_auc, lg_accuracy"
   ]
  },
  {
   "cell_type": "code",
   "execution_count": 26,
   "id": "a101c7e8",
   "metadata": {},
   "outputs": [],
   "source": [
    "cluster_list = []\n",
    "pr_auc = []\n",
    "roc_auc = []\n",
    "accuracies = []\n",
    "dataset_sizes = []\n",
    "count_of_1s = []\n",
    "\n",
    "for cluster_1 in clusters.keys():\n",
    "    df_1 = clusters[cluster_1]\n",
    "    df_1 = df_1.drop(columns = ['bad_loan', 'gm_label'])\n",
    "    df_1['new_label'] = np.zeros(shape = df_1.shape[0], dtype = np.int8)\n",
    "    for cluster_2 in clusters.keys(): \n",
    "        if cluster_2 != cluster_1:\n",
    "            df_2 = clusters[cluster_2]\n",
    "            df_2 = df_2.drop(columns = ['bad_loan', 'gm_label'])\n",
    "            df_2['new_label'] = np.ones(shape = df_2.shape[0], dtype = np.int8)\n",
    "            df = pd.concat([df_1, df_2])\n",
    "            df = df.reset_index(drop=True)\n",
    "            lg_pr_auc, lg_roc_auc, lg_accuracy = train_test_pipeline(df)\n",
    "            \n",
    "            cluster_list.append(cluster_1+\" & \"+cluster_2)\n",
    "            pr_auc.append(lg_pr_auc)\n",
    "            roc_auc.append(lg_roc_auc)\n",
    "            accuracies.append(lg_accuracy)\n",
    "            dataset_sizes.append(df.shape[0])\n",
    "            count_of_1s.append(df.new_label.sum())"
   ]
  },
  {
   "cell_type": "code",
   "execution_count": 27,
   "id": "56aeb3c5",
   "metadata": {},
   "outputs": [
    {
     "data": {
      "text/html": [
       "<div>\n",
       "<style scoped>\n",
       "    .dataframe tbody tr th:only-of-type {\n",
       "        vertical-align: middle;\n",
       "    }\n",
       "\n",
       "    .dataframe tbody tr th {\n",
       "        vertical-align: top;\n",
       "    }\n",
       "\n",
       "    .dataframe thead th {\n",
       "        text-align: right;\n",
       "    }\n",
       "</style>\n",
       "<table border=\"1\" class=\"dataframe\">\n",
       "  <thead>\n",
       "    <tr style=\"text-align: right;\">\n",
       "      <th></th>\n",
       "      <th>clusters</th>\n",
       "      <th>dataset size</th>\n",
       "      <th>count of 1</th>\n",
       "      <th>precision recall auc</th>\n",
       "      <th>receiver operating characteristic auc</th>\n",
       "      <th>accuracy</th>\n",
       "    </tr>\n",
       "  </thead>\n",
       "  <tbody>\n",
       "    <tr>\n",
       "      <th>3</th>\n",
       "      <td>cluster_b &amp; cluster_a</td>\n",
       "      <td>14687</td>\n",
       "      <td>1110</td>\n",
       "      <td>1.000000</td>\n",
       "      <td>1.000000</td>\n",
       "      <td>0.999660</td>\n",
       "    </tr>\n",
       "    <tr>\n",
       "      <th>0</th>\n",
       "      <td>cluster_a &amp; cluster_b</td>\n",
       "      <td>14687</td>\n",
       "      <td>13577</td>\n",
       "      <td>0.999947</td>\n",
       "      <td>0.999302</td>\n",
       "      <td>0.998979</td>\n",
       "    </tr>\n",
       "    <tr>\n",
       "      <th>7</th>\n",
       "      <td>cluster_c &amp; cluster_b</td>\n",
       "      <td>13841</td>\n",
       "      <td>13577</td>\n",
       "      <td>0.991203</td>\n",
       "      <td>0.734154</td>\n",
       "      <td>0.697003</td>\n",
       "    </tr>\n",
       "    <tr>\n",
       "      <th>6</th>\n",
       "      <td>cluster_c &amp; cluster_a</td>\n",
       "      <td>1374</td>\n",
       "      <td>1110</td>\n",
       "      <td>0.990578</td>\n",
       "      <td>0.967874</td>\n",
       "      <td>0.960000</td>\n",
       "    </tr>\n",
       "    <tr>\n",
       "      <th>2</th>\n",
       "      <td>cluster_a &amp; cluster_d</td>\n",
       "      <td>4529</td>\n",
       "      <td>3419</td>\n",
       "      <td>0.984883</td>\n",
       "      <td>0.946940</td>\n",
       "      <td>0.888521</td>\n",
       "    </tr>\n",
       "    <tr>\n",
       "      <th>1</th>\n",
       "      <td>cluster_a &amp; cluster_c</td>\n",
       "      <td>1374</td>\n",
       "      <td>264</td>\n",
       "      <td>0.954201</td>\n",
       "      <td>0.977138</td>\n",
       "      <td>0.960000</td>\n",
       "    </tr>\n",
       "    <tr>\n",
       "      <th>8</th>\n",
       "      <td>cluster_c &amp; cluster_d</td>\n",
       "      <td>3683</td>\n",
       "      <td>3419</td>\n",
       "      <td>0.935489</td>\n",
       "      <td>0.533377</td>\n",
       "      <td>0.484396</td>\n",
       "    </tr>\n",
       "    <tr>\n",
       "      <th>10</th>\n",
       "      <td>cluster_d &amp; cluster_b</td>\n",
       "      <td>16996</td>\n",
       "      <td>13577</td>\n",
       "      <td>0.910140</td>\n",
       "      <td>0.744117</td>\n",
       "      <td>0.701471</td>\n",
       "    </tr>\n",
       "    <tr>\n",
       "      <th>9</th>\n",
       "      <td>cluster_d &amp; cluster_a</td>\n",
       "      <td>4529</td>\n",
       "      <td>1110</td>\n",
       "      <td>0.728802</td>\n",
       "      <td>0.938965</td>\n",
       "      <td>0.881898</td>\n",
       "    </tr>\n",
       "    <tr>\n",
       "      <th>5</th>\n",
       "      <td>cluster_b &amp; cluster_d</td>\n",
       "      <td>16996</td>\n",
       "      <td>3419</td>\n",
       "      <td>0.533278</td>\n",
       "      <td>0.761727</td>\n",
       "      <td>0.692941</td>\n",
       "    </tr>\n",
       "    <tr>\n",
       "      <th>4</th>\n",
       "      <td>cluster_b &amp; cluster_c</td>\n",
       "      <td>13841</td>\n",
       "      <td>264</td>\n",
       "      <td>0.166152</td>\n",
       "      <td>0.768750</td>\n",
       "      <td>0.702420</td>\n",
       "    </tr>\n",
       "    <tr>\n",
       "      <th>11</th>\n",
       "      <td>cluster_d &amp; cluster_c</td>\n",
       "      <td>3683</td>\n",
       "      <td>264</td>\n",
       "      <td>0.099128</td>\n",
       "      <td>0.533791</td>\n",
       "      <td>0.514247</td>\n",
       "    </tr>\n",
       "  </tbody>\n",
       "</table>\n",
       "</div>"
      ],
      "text/plain": [
       "                 clusters  dataset size  count of 1  precision recall auc  \\\n",
       "3   cluster_b & cluster_a         14687        1110              1.000000   \n",
       "0   cluster_a & cluster_b         14687       13577              0.999947   \n",
       "7   cluster_c & cluster_b         13841       13577              0.991203   \n",
       "6   cluster_c & cluster_a          1374        1110              0.990578   \n",
       "2   cluster_a & cluster_d          4529        3419              0.984883   \n",
       "1   cluster_a & cluster_c          1374         264              0.954201   \n",
       "8   cluster_c & cluster_d          3683        3419              0.935489   \n",
       "10  cluster_d & cluster_b         16996       13577              0.910140   \n",
       "9   cluster_d & cluster_a          4529        1110              0.728802   \n",
       "5   cluster_b & cluster_d         16996        3419              0.533278   \n",
       "4   cluster_b & cluster_c         13841         264              0.166152   \n",
       "11  cluster_d & cluster_c          3683         264              0.099128   \n",
       "\n",
       "    receiver operating characteristic auc  accuracy  \n",
       "3                                1.000000  0.999660  \n",
       "0                                0.999302  0.998979  \n",
       "7                                0.734154  0.697003  \n",
       "6                                0.967874  0.960000  \n",
       "2                                0.946940  0.888521  \n",
       "1                                0.977138  0.960000  \n",
       "8                                0.533377  0.484396  \n",
       "10                               0.744117  0.701471  \n",
       "9                                0.938965  0.881898  \n",
       "5                                0.761727  0.692941  \n",
       "4                                0.768750  0.702420  \n",
       "11                               0.533791  0.514247  "
      ]
     },
     "execution_count": 27,
     "metadata": {},
     "output_type": "execute_result"
    }
   ],
   "source": [
    "table = pd.DataFrame(\n",
    "    {'clusters': cluster_list,\n",
    "     'dataset size': dataset_sizes,\n",
    "     'count of 1': count_of_1s,\n",
    "     'precision recall auc': pr_auc,\n",
    "     'receiver operating characteristic auc': roc_auc,\n",
    "     'accuracy': accuracies})\n",
    "\n",
    "table.sort_values('precision recall auc', ascending=False)"
   ]
  },
  {
   "cell_type": "code",
   "execution_count": 28,
   "id": "a3c7b404",
   "metadata": {},
   "outputs": [],
   "source": [
    "table['percentage of 1'] = (table['count of 1']/table['dataset size']*100).round(2)"
   ]
  },
  {
   "cell_type": "code",
   "execution_count": 29,
   "id": "ccdc4bc4",
   "metadata": {},
   "outputs": [
    {
     "data": {
      "text/html": [
       "<div>\n",
       "<style scoped>\n",
       "    .dataframe tbody tr th:only-of-type {\n",
       "        vertical-align: middle;\n",
       "    }\n",
       "\n",
       "    .dataframe tbody tr th {\n",
       "        vertical-align: top;\n",
       "    }\n",
       "\n",
       "    .dataframe thead th {\n",
       "        text-align: right;\n",
       "    }\n",
       "</style>\n",
       "<table border=\"1\" class=\"dataframe\">\n",
       "  <thead>\n",
       "    <tr style=\"text-align: right;\">\n",
       "      <th></th>\n",
       "      <th>clusters</th>\n",
       "      <th>dataset size</th>\n",
       "      <th>count of 1</th>\n",
       "      <th>precision recall auc</th>\n",
       "      <th>receiver operating characteristic auc</th>\n",
       "      <th>accuracy</th>\n",
       "      <th>percentage of 1</th>\n",
       "    </tr>\n",
       "  </thead>\n",
       "  <tbody>\n",
       "    <tr>\n",
       "      <th>3</th>\n",
       "      <td>cluster_b &amp; cluster_a</td>\n",
       "      <td>14687</td>\n",
       "      <td>1110</td>\n",
       "      <td>1.000000</td>\n",
       "      <td>1.000000</td>\n",
       "      <td>0.999660</td>\n",
       "      <td>7.56</td>\n",
       "    </tr>\n",
       "    <tr>\n",
       "      <th>0</th>\n",
       "      <td>cluster_a &amp; cluster_b</td>\n",
       "      <td>14687</td>\n",
       "      <td>13577</td>\n",
       "      <td>0.999947</td>\n",
       "      <td>0.999302</td>\n",
       "      <td>0.998979</td>\n",
       "      <td>92.44</td>\n",
       "    </tr>\n",
       "    <tr>\n",
       "      <th>7</th>\n",
       "      <td>cluster_c &amp; cluster_b</td>\n",
       "      <td>13841</td>\n",
       "      <td>13577</td>\n",
       "      <td>0.991203</td>\n",
       "      <td>0.734154</td>\n",
       "      <td>0.697003</td>\n",
       "      <td>98.09</td>\n",
       "    </tr>\n",
       "    <tr>\n",
       "      <th>6</th>\n",
       "      <td>cluster_c &amp; cluster_a</td>\n",
       "      <td>1374</td>\n",
       "      <td>1110</td>\n",
       "      <td>0.990578</td>\n",
       "      <td>0.967874</td>\n",
       "      <td>0.960000</td>\n",
       "      <td>80.79</td>\n",
       "    </tr>\n",
       "    <tr>\n",
       "      <th>2</th>\n",
       "      <td>cluster_a &amp; cluster_d</td>\n",
       "      <td>4529</td>\n",
       "      <td>3419</td>\n",
       "      <td>0.984883</td>\n",
       "      <td>0.946940</td>\n",
       "      <td>0.888521</td>\n",
       "      <td>75.49</td>\n",
       "    </tr>\n",
       "    <tr>\n",
       "      <th>1</th>\n",
       "      <td>cluster_a &amp; cluster_c</td>\n",
       "      <td>1374</td>\n",
       "      <td>264</td>\n",
       "      <td>0.954201</td>\n",
       "      <td>0.977138</td>\n",
       "      <td>0.960000</td>\n",
       "      <td>19.21</td>\n",
       "    </tr>\n",
       "    <tr>\n",
       "      <th>8</th>\n",
       "      <td>cluster_c &amp; cluster_d</td>\n",
       "      <td>3683</td>\n",
       "      <td>3419</td>\n",
       "      <td>0.935489</td>\n",
       "      <td>0.533377</td>\n",
       "      <td>0.484396</td>\n",
       "      <td>92.83</td>\n",
       "    </tr>\n",
       "    <tr>\n",
       "      <th>10</th>\n",
       "      <td>cluster_d &amp; cluster_b</td>\n",
       "      <td>16996</td>\n",
       "      <td>13577</td>\n",
       "      <td>0.910140</td>\n",
       "      <td>0.744117</td>\n",
       "      <td>0.701471</td>\n",
       "      <td>79.88</td>\n",
       "    </tr>\n",
       "    <tr>\n",
       "      <th>9</th>\n",
       "      <td>cluster_d &amp; cluster_a</td>\n",
       "      <td>4529</td>\n",
       "      <td>1110</td>\n",
       "      <td>0.728802</td>\n",
       "      <td>0.938965</td>\n",
       "      <td>0.881898</td>\n",
       "      <td>24.51</td>\n",
       "    </tr>\n",
       "    <tr>\n",
       "      <th>5</th>\n",
       "      <td>cluster_b &amp; cluster_d</td>\n",
       "      <td>16996</td>\n",
       "      <td>3419</td>\n",
       "      <td>0.533278</td>\n",
       "      <td>0.761727</td>\n",
       "      <td>0.692941</td>\n",
       "      <td>20.12</td>\n",
       "    </tr>\n",
       "    <tr>\n",
       "      <th>4</th>\n",
       "      <td>cluster_b &amp; cluster_c</td>\n",
       "      <td>13841</td>\n",
       "      <td>264</td>\n",
       "      <td>0.166152</td>\n",
       "      <td>0.768750</td>\n",
       "      <td>0.702420</td>\n",
       "      <td>1.91</td>\n",
       "    </tr>\n",
       "    <tr>\n",
       "      <th>11</th>\n",
       "      <td>cluster_d &amp; cluster_c</td>\n",
       "      <td>3683</td>\n",
       "      <td>264</td>\n",
       "      <td>0.099128</td>\n",
       "      <td>0.533791</td>\n",
       "      <td>0.514247</td>\n",
       "      <td>7.17</td>\n",
       "    </tr>\n",
       "  </tbody>\n",
       "</table>\n",
       "</div>"
      ],
      "text/plain": [
       "                 clusters  dataset size  count of 1  precision recall auc  \\\n",
       "3   cluster_b & cluster_a         14687        1110              1.000000   \n",
       "0   cluster_a & cluster_b         14687       13577              0.999947   \n",
       "7   cluster_c & cluster_b         13841       13577              0.991203   \n",
       "6   cluster_c & cluster_a          1374        1110              0.990578   \n",
       "2   cluster_a & cluster_d          4529        3419              0.984883   \n",
       "1   cluster_a & cluster_c          1374         264              0.954201   \n",
       "8   cluster_c & cluster_d          3683        3419              0.935489   \n",
       "10  cluster_d & cluster_b         16996       13577              0.910140   \n",
       "9   cluster_d & cluster_a          4529        1110              0.728802   \n",
       "5   cluster_b & cluster_d         16996        3419              0.533278   \n",
       "4   cluster_b & cluster_c         13841         264              0.166152   \n",
       "11  cluster_d & cluster_c          3683         264              0.099128   \n",
       "\n",
       "    receiver operating characteristic auc  accuracy  percentage of 1  \n",
       "3                                1.000000  0.999660             7.56  \n",
       "0                                0.999302  0.998979            92.44  \n",
       "7                                0.734154  0.697003            98.09  \n",
       "6                                0.967874  0.960000            80.79  \n",
       "2                                0.946940  0.888521            75.49  \n",
       "1                                0.977138  0.960000            19.21  \n",
       "8                                0.533377  0.484396            92.83  \n",
       "10                               0.744117  0.701471            79.88  \n",
       "9                                0.938965  0.881898            24.51  \n",
       "5                                0.761727  0.692941            20.12  \n",
       "4                                0.768750  0.702420             1.91  \n",
       "11                               0.533791  0.514247             7.17  "
      ]
     },
     "execution_count": 29,
     "metadata": {},
     "output_type": "execute_result"
    }
   ],
   "source": [
    "table = table.sort_values(by=['precision recall auc', 'percentage of 1'], ascending=[False, True])\n",
    "table"
   ]
  },
  {
   "cell_type": "markdown",
   "id": "8a8ba51a-643e-4f7b-b65c-9267c587276c",
   "metadata": {},
   "source": [
    "in unsupervised1.ipynb, choosing the label assignment in (cluster_b & cluster_a and cluster_c & cluster_d) renders classifiers mediocre performances. this time, let's go with (cluster_a & cluster_b and cluster_c & cluster_d)"
   ]
  },
  {
   "cell_type": "code",
   "execution_count": 31,
   "id": "a186b4ca",
   "metadata": {},
   "outputs": [],
   "source": [
    "df_b = clusters['cluster_b'].drop(columns = ['bad_loan', 'gm_label'])\n",
    "df_b['new_label'] = np.ones(df_b.shape[0], dtype = np.int8)\n",
    "\n",
    "df_a = clusters['cluster_a'].drop(columns = ['bad_loan', 'gm_label'])\n",
    "df_a['new_label'] = np.zeros(df_a.shape[0], dtype = np.int8)\n",
    "\n",
    "df_c = clusters['cluster_c'].drop(columns = ['bad_loan', 'gm_label'])\n",
    "df_c['new_label'] = np.zeros(df_c.shape[0], dtype = np.int8)\n",
    "\n",
    "df_d = clusters['cluster_d'].drop(columns = ['bad_loan', 'gm_label'])\n",
    "df_d['new_label'] = np.ones(df_d.shape[0], dtype = np.int8)\n",
    "\n",
    "df_new = pd.concat([df_a, df_b, df_c, df_d])\n",
    "df = df.reset_index(drop=True)"
   ]
  },
  {
   "cell_type": "code",
   "execution_count": 32,
   "id": "1f619b36",
   "metadata": {},
   "outputs": [
    {
     "data": {
      "text/plain": [
       "(18370, 35)"
      ]
     },
     "execution_count": 32,
     "metadata": {},
     "output_type": "execute_result"
    }
   ],
   "source": [
    "df_new.shape"
   ]
  },
  {
   "cell_type": "code",
   "execution_count": 33,
   "id": "17201c26",
   "metadata": {},
   "outputs": [
    {
     "data": {
      "text/html": [
       "<div>\n",
       "<style scoped>\n",
       "    .dataframe tbody tr th:only-of-type {\n",
       "        vertical-align: middle;\n",
       "    }\n",
       "\n",
       "    .dataframe tbody tr th {\n",
       "        vertical-align: top;\n",
       "    }\n",
       "\n",
       "    .dataframe thead th {\n",
       "        text-align: right;\n",
       "    }\n",
       "</style>\n",
       "<table border=\"1\" class=\"dataframe\">\n",
       "  <thead>\n",
       "    <tr style=\"text-align: right;\">\n",
       "      <th></th>\n",
       "      <th>id</th>\n",
       "      <th>emp_length_num</th>\n",
       "      <th>Debt-To-Income Ratio</th>\n",
       "      <th>revol_util</th>\n",
       "      <th>od_ratio</th>\n",
       "      <th>annual_income_log</th>\n",
       "      <th>new_label</th>\n",
       "    </tr>\n",
       "  </thead>\n",
       "  <tbody>\n",
       "    <tr>\n",
       "      <th>count</th>\n",
       "      <td>1.837000e+04</td>\n",
       "      <td>18370.000000</td>\n",
       "      <td>18370.000000</td>\n",
       "      <td>18370.000000</td>\n",
       "      <td>18370.000000</td>\n",
       "      <td>18370.000000</td>\n",
       "      <td>18370.000000</td>\n",
       "    </tr>\n",
       "    <tr>\n",
       "      <th>mean</th>\n",
       "      <td>7.594492e+06</td>\n",
       "      <td>6.827599</td>\n",
       "      <td>16.591305</td>\n",
       "      <td>55.732122</td>\n",
       "      <td>0.504960</td>\n",
       "      <td>11.077348</td>\n",
       "      <td>0.925204</td>\n",
       "    </tr>\n",
       "    <tr>\n",
       "      <th>std</th>\n",
       "      <td>1.609890e+06</td>\n",
       "      <td>3.769424</td>\n",
       "      <td>7.582904</td>\n",
       "      <td>23.421033</td>\n",
       "      <td>0.287797</td>\n",
       "      <td>0.487687</td>\n",
       "      <td>0.263069</td>\n",
       "    </tr>\n",
       "    <tr>\n",
       "      <th>min</th>\n",
       "      <td>5.860400e+05</td>\n",
       "      <td>0.000000</td>\n",
       "      <td>0.000000</td>\n",
       "      <td>0.000000</td>\n",
       "      <td>0.000077</td>\n",
       "      <td>9.037533</td>\n",
       "      <td>0.000000</td>\n",
       "    </tr>\n",
       "    <tr>\n",
       "      <th>25%</th>\n",
       "      <td>6.206278e+06</td>\n",
       "      <td>3.000000</td>\n",
       "      <td>10.850000</td>\n",
       "      <td>38.725000</td>\n",
       "      <td>0.257531</td>\n",
       "      <td>10.757924</td>\n",
       "      <td>1.000000</td>\n",
       "    </tr>\n",
       "    <tr>\n",
       "      <th>50%</th>\n",
       "      <td>7.379873e+06</td>\n",
       "      <td>7.000000</td>\n",
       "      <td>16.220000</td>\n",
       "      <td>57.100000</td>\n",
       "      <td>0.508002</td>\n",
       "      <td>11.082158</td>\n",
       "      <td>1.000000</td>\n",
       "    </tr>\n",
       "    <tr>\n",
       "      <th>75%</th>\n",
       "      <td>8.776018e+06</td>\n",
       "      <td>11.000000</td>\n",
       "      <td>22.060000</td>\n",
       "      <td>74.000000</td>\n",
       "      <td>0.753877</td>\n",
       "      <td>11.385103</td>\n",
       "      <td>1.000000</td>\n",
       "    </tr>\n",
       "    <tr>\n",
       "      <th>max</th>\n",
       "      <td>1.145464e+07</td>\n",
       "      <td>11.000000</td>\n",
       "      <td>34.990000</td>\n",
       "      <td>128.100000</td>\n",
       "      <td>0.999894</td>\n",
       "      <td>13.815512</td>\n",
       "      <td>1.000000</td>\n",
       "    </tr>\n",
       "  </tbody>\n",
       "</table>\n",
       "</div>"
      ],
      "text/plain": [
       "                 id  emp_length_num  Debt-To-Income Ratio    revol_util  \\\n",
       "count  1.837000e+04    18370.000000          18370.000000  18370.000000   \n",
       "mean   7.594492e+06        6.827599             16.591305     55.732122   \n",
       "std    1.609890e+06        3.769424              7.582904     23.421033   \n",
       "min    5.860400e+05        0.000000              0.000000      0.000000   \n",
       "25%    6.206278e+06        3.000000             10.850000     38.725000   \n",
       "50%    7.379873e+06        7.000000             16.220000     57.100000   \n",
       "75%    8.776018e+06       11.000000             22.060000     74.000000   \n",
       "max    1.145464e+07       11.000000             34.990000    128.100000   \n",
       "\n",
       "           od_ratio  annual_income_log     new_label  \n",
       "count  18370.000000       18370.000000  18370.000000  \n",
       "mean       0.504960          11.077348      0.925204  \n",
       "std        0.287797           0.487687      0.263069  \n",
       "min        0.000077           9.037533      0.000000  \n",
       "25%        0.257531          10.757924      1.000000  \n",
       "50%        0.508002          11.082158      1.000000  \n",
       "75%        0.753877          11.385103      1.000000  \n",
       "max        0.999894          13.815512      1.000000  "
      ]
     },
     "execution_count": 33,
     "metadata": {},
     "output_type": "execute_result"
    }
   ],
   "source": [
    "df_new.describe()"
   ]
  },
  {
   "cell_type": "code",
   "execution_count": 34,
   "id": "5f70e996",
   "metadata": {},
   "outputs": [
    {
     "data": {
      "image/png": "[encoded data removed]",
      "text/plain": [
       "<Figure size 640x480 with 1 Axes>"
      ]
     },
     "metadata": {},
     "output_type": "display_data"
    }
   ],
   "source": [
    "total_count = df_new.new_label.size\n",
    "\n",
    "ax = sns.countplot(x='new_label', data=df_new, palette='colorblind')\n",
    "for p in ax.patches:\n",
    "    height = p.get_height()\n",
    "    ax.text(p.get_x() + p.get_width() / 2., height + 100, f'{height/total_count*100:.2f}%', ha='center')\n",
    "\n",
    "plt.title('Loan Default Distribution (1 = Defaulted Loan)')\n",
    "plt.show()"
   ]
  },
  {
   "cell_type": "markdown",
   "id": "0d25d294-78c5-4b74-b409-f6bb646e4c33",
   "metadata": {},
   "source": [
    "after assigning new labels, almost 93% of the loans are bad loans. how true is that?"
   ]
  },
  {
   "cell_type": "code",
   "execution_count": 35,
   "id": "6bd791e5",
   "metadata": {},
   "outputs": [],
   "source": [
    "def get_metrics(target_test, target_score, target_pred):\n",
    "    precision, recall, thresholds = precision_recall_curve(target_test, target_score)\n",
    "    fpr, tpr, thresholds = roc_curve(target_test, target_score)\n",
    "    pr_auc = average_precision_score(target_test, target_score)\n",
    "    roc_auc = auc(fpr, tpr)\n",
    "    accuracy = accuracy_score(target_test, target_pred)\n",
    "    \n",
    "    print(f'PR AUC is {pr_auc:.2f}. ROC AUC is {roc_auc:.2f}, Accuracy is {accuracy:.2f}')\n",
    "    return precision, recall, pr_auc, fpr, tpr, roc_auc"
   ]
  },
  {
   "cell_type": "code",
   "execution_count": 36,
   "id": "1a384e8f-a81a-4054-84cb-aa50115f5318",
   "metadata": {},
   "outputs": [
    {
     "name": "stdout",
     "output_type": "stream",
     "text": [
      "<class 'pandas.core.frame.DataFrame'>\n",
      "Index: 18370 entries, 40 to 3682\n",
      "Data columns (total 35 columns):\n",
      " #   Column                           Non-Null Count  Dtype  \n",
      "---  ------                           --------------  -----  \n",
      " 0   id                               18370 non-null  int64  \n",
      " 1   emp_length_num                   18370 non-null  int64  \n",
      " 2   Debt-To-Income Ratio             18370 non-null  float64\n",
      " 3   revol_util                       18370 non-null  float64\n",
      " 4   od_ratio                         18370 non-null  float64\n",
      " 5   annual_income_log                18370 non-null  float64\n",
      " 6   grade_A                          18370 non-null  bool   \n",
      " 7   grade_B                          18370 non-null  bool   \n",
      " 8   grade_C                          18370 non-null  bool   \n",
      " 9   grade_D                          18370 non-null  bool   \n",
      " 10  grade_E                          18370 non-null  bool   \n",
      " 11  grade_F                          18370 non-null  bool   \n",
      " 12  grade_G                          18370 non-null  bool   \n",
      " 13  home_ownership_MORTGAGE          18370 non-null  bool   \n",
      " 14  home_ownership_OWN               18370 non-null  bool   \n",
      " 15  home_ownership_RENT              18370 non-null  bool   \n",
      " 16  purpose_car                      18370 non-null  bool   \n",
      " 17  purpose_credit_card              18370 non-null  bool   \n",
      " 18  purpose_debt_consolidation       18370 non-null  bool   \n",
      " 19  purpose_home_improvement         18370 non-null  bool   \n",
      " 20  purpose_house                    18370 non-null  bool   \n",
      " 21  purpose_major_purchase           18370 non-null  bool   \n",
      " 22  purpose_medical                  18370 non-null  bool   \n",
      " 23  purpose_moving                   18370 non-null  bool   \n",
      " 24  purpose_other                    18370 non-null  bool   \n",
      " 25  purpose_small_business           18370 non-null  bool   \n",
      " 26  purpose_vacation                 18370 non-null  bool   \n",
      " 27  purpose_wedding                  18370 non-null  bool   \n",
      " 28  term_36 months                   18370 non-null  bool   \n",
      " 29  term_60 months                   18370 non-null  bool   \n",
      " 30  last_delinq_none_0               18370 non-null  bool   \n",
      " 31  last_delinq_none_1               18370 non-null  bool   \n",
      " 32  total_rec_late_fee_cat_non-zero  18370 non-null  bool   \n",
      " 33  total_rec_late_fee_cat_zero      18370 non-null  bool   \n",
      " 34  new_label                        18370 non-null  int8   \n",
      "dtypes: bool(28), float64(4), int64(2), int8(1)\n",
      "memory usage: 1.5 MB\n"
     ]
    }
   ],
   "source": [
    "df_new.info()"
   ]
  },
  {
   "cell_type": "code",
   "execution_count": 37,
   "id": "f46c86c0-3e83-481f-8f42-24ba189df049",
   "metadata": {},
   "outputs": [],
   "source": [
    "X = df_new.drop(columns=['id', \n",
    "                     'new_label',\n",
    "                     'grade_A',\n",
    "                     'home_ownership_MORTGAGE',\n",
    "                     'purpose_car',\n",
    "                     'term_36 months',\n",
    "                     'last_delinq_none_0', \n",
    "                     'total_rec_late_fee_cat_zero'])\n",
    "\n",
    "y = df_new['new_label']"
   ]
  },
  {
   "cell_type": "code",
   "execution_count": 38,
   "id": "d9e42c95-64df-405e-a3eb-d37c5b08b767",
   "metadata": {},
   "outputs": [],
   "source": [
    "sss = StratifiedShuffleSplit(n_splits=1, test_size=0.2, train_size=0.8, random_state=123)\n",
    "train_ind, test_ind = next(sss.split(X,y,groups=None))\n",
    "X_train, y_train, X_test, y_test = X.iloc[train_ind], y.iloc[train_ind], X.iloc[test_ind], y.iloc[test_ind]\n",
    "\n",
    "scaler = StandardScaler()\n",
    "X_train = scaler.fit_transform(X_train)\n",
    "X_test = scaler.transform(X_test)"
   ]
  },
  {
   "cell_type": "markdown",
   "id": "27df5dd7-c0e2-4d9e-94ad-41bcde8c0290",
   "metadata": {},
   "source": [
    "<br> \n",
    "same as before in the smote notebook: for the training data, will over sample the minority class to have 50% of the majoirity class, then use random undersamping to reduce the number of samples in the majority class to have 50% more than the minority class. test data's target distribution will stay the same."
   ]
  },
  {
   "cell_type": "code",
   "execution_count": 40,
   "id": "31ca505a",
   "metadata": {},
   "outputs": [],
   "source": [
    "over = SMOTE(sampling_strategy=0.5)\n",
    "X_over, y_over = over.fit_resample(X_train, y_train)\n",
    "\n",
    "under = RandomUnderSampler(sampling_strategy=0.5)\n",
    "X_train_resampled, y_train_resampled = under.fit_resample(X_over, y_over)"
   ]
  },
  {
   "cell_type": "code",
   "execution_count": 41,
   "id": "d1beab3e",
   "metadata": {},
   "outputs": [
    {
     "data": {
      "text/plain": [
       "(20394, 27)"
      ]
     },
     "execution_count": 41,
     "metadata": {},
     "output_type": "execute_result"
    }
   ],
   "source": [
    "X_train_resampled.shape"
   ]
  },
  {
   "cell_type": "code",
   "execution_count": 42,
   "id": "eb07209d",
   "metadata": {},
   "outputs": [
    {
     "data": {
      "image/png": "[encoded data removed]",
      "text/plain": [
       "<Figure size 640x480 with 1 Axes>"
      ]
     },
     "metadata": {},
     "output_type": "display_data"
    }
   ],
   "source": [
    "total_count = y_train_resampled.size\n",
    "\n",
    "ax = sns.countplot(x=y_train_resampled, palette='colorblind')\n",
    "for p in ax.patches:\n",
    "    height = p.get_height()\n",
    "    ax.text(p.get_x() + p.get_width() / 2., height + 100, f'{height/total_count*100:.2f}%', ha='center')\n",
    "\n",
    "plt.title('Loan Default Distribution (1 = Defaulted Loan) After Re-balancing')\n",
    "plt.show()"
   ]
  },
  {
   "cell_type": "markdown",
   "id": "1c2cf6ec",
   "metadata": {},
   "source": [
    "### Logistic Regression"
   ]
  },
  {
   "cell_type": "code",
   "execution_count": 44,
   "id": "6dc8e2a7",
   "metadata": {},
   "outputs": [
    {
     "data": {
      "text/plain": [
       "{'C': 10}"
      ]
     },
     "execution_count": 44,
     "metadata": {},
     "output_type": "execute_result"
    }
   ],
   "source": [
    "param_grid = [{'C': [1, 10, 100, 1000]}]\n",
    "\n",
    "lg_clf = LogisticRegression(class_weight='balanced',\n",
    "                            random_state = 123\n",
    "                           )\n",
    "     \n",
    "grid_search = GridSearchCV(lg_clf, param_grid, cv=5,\n",
    "                          scoring = 'average_precision',\n",
    "                           #AP summarizes a precision-recall curve as the weighted mean of precisions achieved at \n",
    "                           #each threshold, with the increase in recall from the previous threshold used as the weight\n",
    "                           #https://scikit-learn.org/stable/modules/generated/sklearn.metrics.average_precision_score.html\n",
    "                          return_train_score = True)\n",
    "               \n",
    "grid_search.fit(X_train_resampled, y_train_resampled)\n",
    "\n",
    "grid_search.best_params_"
   ]
  },
  {
   "cell_type": "code",
   "execution_count": 45,
   "id": "c987b2ea",
   "metadata": {},
   "outputs": [
    {
     "data": {
      "text/html": [
       "<div>\n",
       "<style scoped>\n",
       "    .dataframe tbody tr th:only-of-type {\n",
       "        vertical-align: middle;\n",
       "    }\n",
       "\n",
       "    .dataframe tbody tr th {\n",
       "        vertical-align: top;\n",
       "    }\n",
       "\n",
       "    .dataframe thead th {\n",
       "        text-align: right;\n",
       "    }\n",
       "</style>\n",
       "<table border=\"1\" class=\"dataframe\">\n",
       "  <thead>\n",
       "    <tr style=\"text-align: right;\">\n",
       "      <th></th>\n",
       "      <th>Predicted Negative</th>\n",
       "      <th>Predicted Positive</th>\n",
       "    </tr>\n",
       "  </thead>\n",
       "  <tbody>\n",
       "    <tr>\n",
       "      <th>Actual Negative</th>\n",
       "      <td>232</td>\n",
       "      <td>43</td>\n",
       "    </tr>\n",
       "    <tr>\n",
       "      <th>Actual Positive</th>\n",
       "      <td>129</td>\n",
       "      <td>3270</td>\n",
       "    </tr>\n",
       "  </tbody>\n",
       "</table>\n",
       "</div>"
      ],
      "text/plain": [
       "                 Predicted Negative  Predicted Positive\n",
       "Actual Negative                 232                  43\n",
       "Actual Positive                 129                3270"
      ]
     },
     "execution_count": 45,
     "metadata": {},
     "output_type": "execute_result"
    }
   ],
   "source": [
    "lg_clf = grid_search.best_estimator_\n",
    "lg_clf.fit(X_train_resampled, y_train_resampled)\n",
    "y_pred = lg_clf.predict(X_test)\n",
    "y_score = lg_clf.predict_proba(X_test)[:, 1]\n",
    "\n",
    "get_confusion_matrix(y_test, y_pred)"
   ]
  },
  {
   "cell_type": "code",
   "execution_count": 46,
   "id": "efd04e76",
   "metadata": {},
   "outputs": [
    {
     "name": "stdout",
     "output_type": "stream",
     "text": [
      "PR AUC is 0.99. ROC AUC is 0.93, Accuracy is 0.95\n"
     ]
    }
   ],
   "source": [
    "lg_precision, lg_recall, lg_pr_auc, lg_fpr, lg_tpr, lg_roc_auc = get_metrics(y_test, y_score, y_pred)"
   ]
  },
  {
   "cell_type": "markdown",
   "id": "6d5aaaba",
   "metadata": {},
   "source": [
    "### XGBoost"
   ]
  },
  {
   "cell_type": "code",
   "execution_count": 48,
   "id": "04100a78",
   "metadata": {},
   "outputs": [],
   "source": [
    "from sklearn.utils import class_weight\n",
    "\n",
    "class_weights = class_weight.compute_class_weight('balanced', classes=np.unique(y_train_resampled), y=y_train_resampled)\n",
    "class_weights = {0: class_weights[0], 1: class_weights[1]}"
   ]
  },
  {
   "cell_type": "code",
   "execution_count": 49,
   "id": "8f5b1fed",
   "metadata": {},
   "outputs": [
    {
     "data": {
      "text/plain": [
       "{'learning_rate': 0.1, 'max_depth': 4, 'n_estimators': 96}"
      ]
     },
     "execution_count": 49,
     "metadata": {},
     "output_type": "execute_result"
    }
   ],
   "source": [
    "param_grid = [\n",
    "    {'n_estimators': [94, 95, 96],\n",
    "     'max_depth': [1,2, 3, 4],\n",
    "     'learning_rate': [0.01, 0.1, 1]}]\n",
    "\n",
    "xgb_classifier = xgb.XGBClassifier(objective='binary:logistic',\n",
    "                                    eval_metric='aucpr',\n",
    "                                    scale_pos_weight=class_weights[0]/class_weights[1],\n",
    "                                    random_state = 123)\n",
    "\n",
    "grid_search = GridSearchCV(xgb_classifier, param_grid, cv=5,\n",
    "                          scoring = 'average_precision',\n",
    "                          return_train_score = True)\n",
    "\n",
    "grid_search.fit(X_train_resampled, y_train_resampled)\n",
    "\n",
    "grid_search.best_params_"
   ]
  },
  {
   "cell_type": "code",
   "execution_count": 50,
   "id": "e51c17d3-3cca-46e6-9d4d-136841a03afb",
   "metadata": {},
   "outputs": [
    {
     "data": {
      "text/html": [
       "<div>\n",
       "<style scoped>\n",
       "    .dataframe tbody tr th:only-of-type {\n",
       "        vertical-align: middle;\n",
       "    }\n",
       "\n",
       "    .dataframe tbody tr th {\n",
       "        vertical-align: top;\n",
       "    }\n",
       "\n",
       "    .dataframe thead th {\n",
       "        text-align: right;\n",
       "    }\n",
       "</style>\n",
       "<table border=\"1\" class=\"dataframe\">\n",
       "  <thead>\n",
       "    <tr style=\"text-align: right;\">\n",
       "      <th></th>\n",
       "      <th>Predicted Negative</th>\n",
       "      <th>Predicted Positive</th>\n",
       "    </tr>\n",
       "  </thead>\n",
       "  <tbody>\n",
       "    <tr>\n",
       "      <th>Actual Negative</th>\n",
       "      <td>200</td>\n",
       "      <td>75</td>\n",
       "    </tr>\n",
       "    <tr>\n",
       "      <th>Actual Positive</th>\n",
       "      <td>93</td>\n",
       "      <td>3306</td>\n",
       "    </tr>\n",
       "  </tbody>\n",
       "</table>\n",
       "</div>"
      ],
      "text/plain": [
       "                 Predicted Negative  Predicted Positive\n",
       "Actual Negative                 200                  75\n",
       "Actual Positive                  93                3306"
      ]
     },
     "execution_count": 50,
     "metadata": {},
     "output_type": "execute_result"
    }
   ],
   "source": [
    "xgb_classifier = grid_search.best_estimator_\n",
    "xgb_classifier.fit(X_train_resampled, y_train_resampled)\n",
    "y_pred = xgb_classifier.predict(X_test)\n",
    "y_score = xgb_classifier.predict_proba(X_test)[:, 1]\n",
    "\n",
    "get_confusion_matrix(y_test, y_pred)"
   ]
  },
  {
   "cell_type": "code",
   "execution_count": 51,
   "id": "3cfaa081",
   "metadata": {},
   "outputs": [
    {
     "name": "stdout",
     "output_type": "stream",
     "text": [
      "PR AUC is 0.99. ROC AUC is 0.93, Accuracy is 0.95\n"
     ]
    }
   ],
   "source": [
    "xgb_precision, xgb_recall, xgb_pr_auc, xgb_fpr, xgb_tpr, xgb_roc_auc = get_metrics(y_test, y_score, y_pred)"
   ]
  },
  {
   "cell_type": "code",
   "execution_count": 52,
   "id": "352d5182",
   "metadata": {},
   "outputs": [
    {
     "data": {
      "image/png": "[encoded data removed]",
      "text/plain": [
       "<Figure size 640x480 with 1 Axes>"
      ]
     },
     "metadata": {},
     "output_type": "display_data"
    }
   ],
   "source": [
    "xgb_classifier.get_booster().feature_names =  list(X.columns)\n",
    "xgb.plot_importance(xgb_classifier);"
   ]
  },
  {
   "cell_type": "markdown",
   "id": "0f19d1fa",
   "metadata": {},
   "source": [
    "### Random Forest"
   ]
  },
  {
   "cell_type": "code",
   "execution_count": 54,
   "id": "a5e073fd",
   "metadata": {},
   "outputs": [
    {
     "data": {
      "text/plain": [
       "{'max_depth': 15, 'n_estimators': 440}"
      ]
     },
     "execution_count": 54,
     "metadata": {},
     "output_type": "execute_result"
    }
   ],
   "source": [
    "param_grid = [\n",
    "    {'n_estimators': [440, 450, 460],\n",
    "     'max_depth': [5, 10, 15]}\n",
    "]\n",
    "\n",
    "rf_classifier = RandomForestClassifier(class_weight=class_weights,\n",
    "                                       random_state = 123)\n",
    "\n",
    "grid_search = GridSearchCV(rf_classifier, param_grid, cv=5,\n",
    "                          scoring = 'average_precision',\n",
    "                          return_train_score = True)\n",
    "\n",
    "grid_search.fit(X_train_resampled, y_train_resampled)\n",
    "\n",
    "grid_search.best_params_"
   ]
  },
  {
   "cell_type": "code",
   "execution_count": 55,
   "id": "94669dad",
   "metadata": {},
   "outputs": [
    {
     "data": {
      "text/html": [
       "<div>\n",
       "<style scoped>\n",
       "    .dataframe tbody tr th:only-of-type {\n",
       "        vertical-align: middle;\n",
       "    }\n",
       "\n",
       "    .dataframe tbody tr th {\n",
       "        vertical-align: top;\n",
       "    }\n",
       "\n",
       "    .dataframe thead th {\n",
       "        text-align: right;\n",
       "    }\n",
       "</style>\n",
       "<table border=\"1\" class=\"dataframe\">\n",
       "  <thead>\n",
       "    <tr style=\"text-align: right;\">\n",
       "      <th></th>\n",
       "      <th>Predicted Negative</th>\n",
       "      <th>Predicted Positive</th>\n",
       "    </tr>\n",
       "  </thead>\n",
       "  <tbody>\n",
       "    <tr>\n",
       "      <th>Actual Negative</th>\n",
       "      <td>204</td>\n",
       "      <td>71</td>\n",
       "    </tr>\n",
       "    <tr>\n",
       "      <th>Actual Positive</th>\n",
       "      <td>89</td>\n",
       "      <td>3310</td>\n",
       "    </tr>\n",
       "  </tbody>\n",
       "</table>\n",
       "</div>"
      ],
      "text/plain": [
       "                 Predicted Negative  Predicted Positive\n",
       "Actual Negative                 204                  71\n",
       "Actual Positive                  89                3310"
      ]
     },
     "execution_count": 55,
     "metadata": {},
     "output_type": "execute_result"
    }
   ],
   "source": [
    "best_params = grid_search.best_estimator_\n",
    "rf_classifier.fit(X_train_resampled, y_train_resampled)\n",
    "y_pred = rf_classifier.predict(X_test)\n",
    "y_score = rf_classifier.predict_proba(X_test)[:, 1]\n",
    "\n",
    "get_confusion_matrix(y_test, y_pred)"
   ]
  },
  {
   "cell_type": "code",
   "execution_count": 56,
   "id": "be2f1043",
   "metadata": {},
   "outputs": [
    {
     "name": "stdout",
     "output_type": "stream",
     "text": [
      "PR AUC is 0.99. ROC AUC is 0.93, Accuracy is 0.96\n"
     ]
    }
   ],
   "source": [
    "rf_precision, rf_recall, rf_pr_auc, rf_fpr, rf_tpr, rf_roc_auc = get_metrics(y_test, y_score, y_pred)"
   ]
  },
  {
   "cell_type": "code",
   "execution_count": 57,
   "id": "b01e1088",
   "metadata": {},
   "outputs": [
    {
     "data": {
      "text/plain": [
       "[('grade_F', 0.13519566902150246),\n",
       " ('purpose_major_purchase', 0.08860737841885309),\n",
       " ('purpose_debt_consolidation', 0.06059380090928261),\n",
       " ('term_60 months', 0.0588341784520427),\n",
       " ('annual_income_log', 0.05322869470170224),\n",
       " ('revol_util', 0.05293102835590669),\n",
       " ('Debt-To-Income Ratio', 0.051313213349889523),\n",
       " ('od_ratio', 0.051006756645986695),\n",
       " ('emp_length_num', 0.04851594591926926),\n",
       " ('purpose_credit_card', 0.04410155255199201),\n",
       " ('home_ownership_RENT', 0.041421187523281375),\n",
       " ('grade_B', 0.034376781505038076),\n",
       " ('grade_G', 0.03312305676936897),\n",
       " ('last_delinq_none_1', 0.030128531049589645),\n",
       " ('purpose_house', 0.027763805262850397),\n",
       " ('purpose_moving', 0.02750184524234676),\n",
       " ('purpose_vacation', 0.027069298297058897),\n",
       " ('grade_C', 0.02585286739530566),\n",
       " ('purpose_wedding', 0.022432812709116103),\n",
       " ('total_rec_late_fee_cat_non-zero', 0.019233734974214014),\n",
       " ('grade_D', 0.016687952902711974),\n",
       " ('purpose_home_improvement', 0.010728878380164824),\n",
       " ('grade_E', 0.010666430958140767),\n",
       " ('purpose_other', 0.010300894590965122),\n",
       " ('purpose_small_business', 0.007861505559116268),\n",
       " ('home_ownership_OWN', 0.006471214215587882),\n",
       " ('purpose_medical', 0.004050984338715819)]"
      ]
     },
     "execution_count": 57,
     "metadata": {},
     "output_type": "execute_result"
    }
   ],
   "source": [
    "feature_names = list(X.columns)\n",
    "feature_importances = list()\n",
    "\n",
    "for name, score in zip(feature_names, rf_classifier.feature_importances_):\n",
    "    p = (name, score)\n",
    "    feature_importances.append(p)\n",
    "\n",
    "feature_importances = sorted(feature_importances, key=lambda x:x[1],reverse=True)\n",
    "feature_importances"
   ]
  },
  {
   "cell_type": "code",
   "execution_count": null,
   "id": "217265de",
   "metadata": {},
   "outputs": [],
   "source": []
  },
  {
   "cell_type": "code",
   "execution_count": null,
   "id": "bdabc4d8",
   "metadata": {},
   "outputs": [],
   "source": []
  },
  {
   "cell_type": "markdown",
   "id": "dd5209ad",
   "metadata": {},
   "source": [
    "#### Gradient Descent Optimization"
   ]
  },
  {
   "cell_type": "code",
   "execution_count": 59,
   "id": "5907327f",
   "metadata": {},
   "outputs": [
    {
     "data": {
      "text/plain": [
       "{'max_iter': 50}"
      ]
     },
     "execution_count": 59,
     "metadata": {},
     "output_type": "execute_result"
    }
   ],
   "source": [
    "param_grid = [\n",
    "    {'max_iter': list(range(50, 951, 100))}\n",
    "]\n",
    "\n",
    "sgd_clf = SGDClassifier(loss='log', \n",
    "                        learning_rate='optimal',\n",
    "                        tol=1e-3,\n",
    "                        class_weight=class_weights,\n",
    "                        random_state = 123)\n",
    "\n",
    "grid_search = GridSearchCV(sgd_clf, param_grid, cv=5,\n",
    "                          scoring = 'average_precision',\n",
    "                          return_train_score = True)\n",
    "\n",
    "grid_search.fit(X_train_resampled, y_train_resampled)\n",
    "\n",
    "grid_search.best_params_"
   ]
  },
  {
   "cell_type": "code",
   "execution_count": 60,
   "id": "c702083e",
   "metadata": {},
   "outputs": [
    {
     "data": {
      "text/html": [
       "<div>\n",
       "<style scoped>\n",
       "    .dataframe tbody tr th:only-of-type {\n",
       "        vertical-align: middle;\n",
       "    }\n",
       "\n",
       "    .dataframe tbody tr th {\n",
       "        vertical-align: top;\n",
       "    }\n",
       "\n",
       "    .dataframe thead th {\n",
       "        text-align: right;\n",
       "    }\n",
       "</style>\n",
       "<table border=\"1\" class=\"dataframe\">\n",
       "  <thead>\n",
       "    <tr style=\"text-align: right;\">\n",
       "      <th></th>\n",
       "      <th>Predicted Negative</th>\n",
       "      <th>Predicted Positive</th>\n",
       "    </tr>\n",
       "  </thead>\n",
       "  <tbody>\n",
       "    <tr>\n",
       "      <th>Actual Negative</th>\n",
       "      <td>232</td>\n",
       "      <td>43</td>\n",
       "    </tr>\n",
       "    <tr>\n",
       "      <th>Actual Positive</th>\n",
       "      <td>146</td>\n",
       "      <td>3253</td>\n",
       "    </tr>\n",
       "  </tbody>\n",
       "</table>\n",
       "</div>"
      ],
      "text/plain": [
       "                 Predicted Negative  Predicted Positive\n",
       "Actual Negative                 232                  43\n",
       "Actual Positive                 146                3253"
      ]
     },
     "execution_count": 60,
     "metadata": {},
     "output_type": "execute_result"
    }
   ],
   "source": [
    "sgd_clf = grid_search.best_estimator_\n",
    "sgd_clf.fit(X_train_resampled, y_train_resampled)\n",
    "y_pred = sgd_clf.predict(X_test)\n",
    "y_score = sgd_clf.predict_proba(X_test)[:, 1]\n",
    "\n",
    "get_confusion_matrix(y_test, y_pred)"
   ]
  },
  {
   "cell_type": "code",
   "execution_count": 61,
   "id": "e1c95f53",
   "metadata": {},
   "outputs": [
    {
     "name": "stdout",
     "output_type": "stream",
     "text": [
      "PR AUC is 0.99. ROC AUC is 0.93, Accuracy is 0.95\n"
     ]
    }
   ],
   "source": [
    "sgd_precision, sgd_recall, sgd_pr_auc, sgd_fpr, sgd_tpr, sgd_roc_auc = get_metrics(y_test, y_score, y_pred)"
   ]
  },
  {
   "cell_type": "markdown",
   "id": "c2bb5926",
   "metadata": {},
   "source": [
    "### Mini-batch Gradient Descent"
   ]
  },
  {
   "cell_type": "code",
   "execution_count": 63,
   "id": "18f59043",
   "metadata": {},
   "outputs": [
    {
     "data": {
      "text/html": [
       "<div>\n",
       "<style scoped>\n",
       "    .dataframe tbody tr th:only-of-type {\n",
       "        vertical-align: middle;\n",
       "    }\n",
       "\n",
       "    .dataframe tbody tr th {\n",
       "        vertical-align: top;\n",
       "    }\n",
       "\n",
       "    .dataframe thead th {\n",
       "        text-align: right;\n",
       "    }\n",
       "</style>\n",
       "<table border=\"1\" class=\"dataframe\">\n",
       "  <thead>\n",
       "    <tr style=\"text-align: right;\">\n",
       "      <th></th>\n",
       "      <th>Predicted Negative</th>\n",
       "      <th>Predicted Positive</th>\n",
       "    </tr>\n",
       "  </thead>\n",
       "  <tbody>\n",
       "    <tr>\n",
       "      <th>Actual Negative</th>\n",
       "      <td>232</td>\n",
       "      <td>43</td>\n",
       "    </tr>\n",
       "    <tr>\n",
       "      <th>Actual Positive</th>\n",
       "      <td>146</td>\n",
       "      <td>3253</td>\n",
       "    </tr>\n",
       "  </tbody>\n",
       "</table>\n",
       "</div>"
      ],
      "text/plain": [
       "                 Predicted Negative  Predicted Positive\n",
       "Actual Negative                 232                  43\n",
       "Actual Positive                 146                3253"
      ]
     },
     "execution_count": 63,
     "metadata": {},
     "output_type": "execute_result"
    }
   ],
   "source": [
    "from sklearn.base import clone\n",
    "\n",
    "batch_size = 150\n",
    "sample_size = len(X_train_resampled)\n",
    "\n",
    "#set aside a validation batch for mini-batch SGD\n",
    "sss_2 = StratifiedShuffleSplit(n_splits=1, test_size=batch_size, train_size=sample_size-batch_size)\n",
    "train_ind, val_ind = next(sss_2.split(X_train_resampled, y_train_resampled))\n",
    "X_train_2, y_train_2, X_mini_val, y_mini_val = X_train_resampled[list(train_ind)], y_train_resampled.iloc[train_ind], X_train_resampled[list(val_ind)], y_train_resampled.iloc[val_ind]\n",
    "y_train_2 = y_train_2.to_numpy().reshape(-1,1)\n",
    "combined_training_data = np.concatenate((X_train_2, y_train_2), axis = 1)\n",
    "\n",
    "minimum_val_error = float(\"inf\") \n",
    "best_model = None\n",
    "\n",
    "for i in range(100):\n",
    "    \n",
    "    np.random.shuffle(combined_training_data)\n",
    "    \n",
    "    X_mini_train = combined_training_data[0:batch_size, :-1]\n",
    "    y_mini_train = combined_training_data[0:batch_size, -1]\n",
    "                                          \n",
    "    sgd_clf.partial_fit(X_mini_train, y_mini_train, classes=np.unique(y_train_2))\n",
    "    y_val_proba = sgd_clf.predict_proba(X_mini_val)\n",
    "    val_error = log_loss(y_mini_val, y_val_proba)\n",
    "    \n",
    "    if val_error < minimum_val_error:\n",
    "        minimum_val_error = val_error\n",
    "        best_model = clone(sgd_clf)\n",
    "\n",
    "best_model.fit(X_train_resampled, y_train_resampled)\n",
    "y_pred = best_model.predict(X_test)\n",
    "y_score = best_model.predict_proba(X_test)[:, 1]\n",
    "\n",
    "get_confusion_matrix(y_test, y_pred)\n"
   ]
  },
  {
   "cell_type": "code",
   "execution_count": 64,
   "id": "ef6dcc23",
   "metadata": {},
   "outputs": [
    {
     "name": "stdout",
     "output_type": "stream",
     "text": [
      "PR AUC is 0.99. ROC AUC is 0.93, Accuracy is 0.95\n"
     ]
    }
   ],
   "source": [
    "mbgd_precision, mbgd_recall, mbgd_pr_auc, mbgd_fpr, mbgd_tpr, mbgd_roc_auc = get_metrics(y_test, y_score, y_pred)"
   ]
  },
  {
   "cell_type": "code",
   "execution_count": 65,
   "id": "3be3b210",
   "metadata": {},
   "outputs": [],
   "source": [
    "import xgboost as xgb\n",
    "from sklearn.ensemble import RandomForestClassifier, StackingClassifier\n",
    "from sklearn.linear_model import LogisticRegression, SGDClassifier\n",
    "from sklearn.svm import LinearSVC, SVC\n",
    "from sklearn.preprocessing import StandardScaler\n",
    "from sklearn.model_selection import GridSearchCV, cross_val_score, cross_val_predict, StratifiedShuffleSplit\n",
    "from sklearn.metrics import make_scorer, log_loss, recall_score, accuracy_score, classification_report, average_precision_score, precision_recall_curve, roc_curve, confusion_matrix, auc"
   ]
  },
  {
   "cell_type": "markdown",
   "id": "da10b924",
   "metadata": {},
   "source": [
    "### Support Vector Machine"
   ]
  },
  {
   "cell_type": "markdown",
   "id": "6677ad58",
   "metadata": {},
   "source": [
    "#### Linear SVM"
   ]
  },
  {
   "cell_type": "code",
   "execution_count": 68,
   "id": "66924192",
   "metadata": {},
   "outputs": [
    {
     "data": {
      "text/plain": [
       "{'C': 10, 'max_iter': 5}"
      ]
     },
     "execution_count": 68,
     "metadata": {},
     "output_type": "execute_result"
    }
   ],
   "source": [
    "param_grid = [\n",
    "    {'max_iter': np.arange(2, 8, 1),\n",
    "     'C': np.arange(10, 20, 2)}\n",
    "]\n",
    "\n",
    "lin_svm_clf = LinearSVC(dual=False, \n",
    "                        loss='squared_hinge',\n",
    "                        random_state=123,\n",
    "                        class_weight='balanced')\n",
    "\n",
    "grid_search = GridSearchCV(lin_svm_clf, param_grid, cv=5,\n",
    "                          scoring = 'average_precision',\n",
    "                          return_train_score = True)\n",
    "\n",
    "grid_search.fit(X_train_resampled, y_train_resampled)\n",
    "\n",
    "grid_search.best_params_"
   ]
  },
  {
   "cell_type": "code",
   "execution_count": 69,
   "id": "2a3bed2f",
   "metadata": {},
   "outputs": [
    {
     "data": {
      "text/html": [
       "<div>\n",
       "<style scoped>\n",
       "    .dataframe tbody tr th:only-of-type {\n",
       "        vertical-align: middle;\n",
       "    }\n",
       "\n",
       "    .dataframe tbody tr th {\n",
       "        vertical-align: top;\n",
       "    }\n",
       "\n",
       "    .dataframe thead th {\n",
       "        text-align: right;\n",
       "    }\n",
       "</style>\n",
       "<table border=\"1\" class=\"dataframe\">\n",
       "  <thead>\n",
       "    <tr style=\"text-align: right;\">\n",
       "      <th></th>\n",
       "      <th>Predicted Negative</th>\n",
       "      <th>Predicted Positive</th>\n",
       "    </tr>\n",
       "  </thead>\n",
       "  <tbody>\n",
       "    <tr>\n",
       "      <th>Actual Negative</th>\n",
       "      <td>233</td>\n",
       "      <td>42</td>\n",
       "    </tr>\n",
       "    <tr>\n",
       "      <th>Actual Positive</th>\n",
       "      <td>131</td>\n",
       "      <td>3268</td>\n",
       "    </tr>\n",
       "  </tbody>\n",
       "</table>\n",
       "</div>"
      ],
      "text/plain": [
       "                 Predicted Negative  Predicted Positive\n",
       "Actual Negative                 233                  42\n",
       "Actual Positive                 131                3268"
      ]
     },
     "execution_count": 69,
     "metadata": {},
     "output_type": "execute_result"
    }
   ],
   "source": [
    "from sklearn.calibration import CalibratedClassifierCV\n",
    "\n",
    "lin_svm_clf = grid_search.best_estimator_\n",
    "lin_svm_clf.fit(X_train_resampled, y_train_resampled)\n",
    "y_pred = lin_svm_clf.predict(X_test)\n",
    "\n",
    "clf = CalibratedClassifierCV(grid_search.best_estimator_) \n",
    "clf.fit(X_train_resampled, y_train_resampled)\n",
    "y_score = clf.predict_proba(X_test)[:,1]\n",
    "\n",
    "get_confusion_matrix(y_test, y_pred)"
   ]
  },
  {
   "cell_type": "code",
   "execution_count": 70,
   "id": "c23eda08",
   "metadata": {},
   "outputs": [
    {
     "name": "stdout",
     "output_type": "stream",
     "text": [
      "PR AUC is 0.99. ROC AUC is 0.93, Accuracy is 0.95\n"
     ]
    }
   ],
   "source": [
    "lsvm_precision, lsvm_recall, lsvm_pr_auc, lsvm_fpr, lsvm_tpr, lsvm_roc_auc = get_metrics(y_test, y_score, y_pred)"
   ]
  },
  {
   "cell_type": "markdown",
   "id": "9edc05e1",
   "metadata": {},
   "source": [
    "#### Polynomial Kernel Support Vector Classifier\n",
    "\n",
    "SVC's time complexity is O(n^2 xd) to O(n^3 xd). To lower the time required to train kernel SVM models, i will use a smaller training dataset"
   ]
  },
  {
   "cell_type": "code",
   "execution_count": 72,
   "id": "5983eb21",
   "metadata": {},
   "outputs": [],
   "source": [
    "sss = StratifiedShuffleSplit(n_splits=1, test_size=0.8, train_size=0.2, random_state=123)\n",
    "train_ind, test_ind = next(sss.split(X_train_resampled, y_train_resampled,groups=None))\n",
    "X_train_2, y_train_2, X_test_2, y_test_2 = X_train_resampled[train_ind], y_train_resampled[train_ind], X_train_resampled[test_ind], y_train_resampled[test_ind]\n",
    "\n",
    "scaler = StandardScaler()\n",
    "X_train_2 = scaler.fit_transform(X_train_2)\n",
    "X_test = scaler.transform(X_test)"
   ]
  },
  {
   "cell_type": "code",
   "execution_count": 73,
   "id": "1e1bd199",
   "metadata": {},
   "outputs": [
    {
     "data": {
      "text/plain": [
       "{'C': 1, 'coef0': 1, 'degree': 2}"
      ]
     },
     "execution_count": 73,
     "metadata": {},
     "output_type": "execute_result"
    }
   ],
   "source": [
    "param_grid = [\n",
    "    {'degree': [0, 1, 2],\n",
    "     'coef0': [1, 2],\n",
    "     'C': [1, 10, 100]}\n",
    "]\n",
    "\n",
    "poly_kernel_svm_clf = SVC(kernel = 'poly',\n",
    "                          probability = True,\n",
    "                          class_weight=class_weights)\n",
    "\n",
    "grid_search = GridSearchCV(poly_kernel_svm_clf, param_grid, cv=2,\n",
    "                          scoring = 'average_precision',\n",
    "                          return_train_score = True)\n",
    "\n",
    "grid_search.fit(X_train_2, y_train_2)\n",
    "\n",
    "grid_search.best_params_"
   ]
  },
  {
   "cell_type": "code",
   "execution_count": 74,
   "id": "68399e02",
   "metadata": {},
   "outputs": [
    {
     "data": {
      "text/html": [
       "<div>\n",
       "<style scoped>\n",
       "    .dataframe tbody tr th:only-of-type {\n",
       "        vertical-align: middle;\n",
       "    }\n",
       "\n",
       "    .dataframe tbody tr th {\n",
       "        vertical-align: top;\n",
       "    }\n",
       "\n",
       "    .dataframe thead th {\n",
       "        text-align: right;\n",
       "    }\n",
       "</style>\n",
       "<table border=\"1\" class=\"dataframe\">\n",
       "  <thead>\n",
       "    <tr style=\"text-align: right;\">\n",
       "      <th></th>\n",
       "      <th>Predicted Negative</th>\n",
       "      <th>Predicted Positive</th>\n",
       "    </tr>\n",
       "  </thead>\n",
       "  <tbody>\n",
       "    <tr>\n",
       "      <th>Actual Negative</th>\n",
       "      <td>230</td>\n",
       "      <td>45</td>\n",
       "    </tr>\n",
       "    <tr>\n",
       "      <th>Actual Positive</th>\n",
       "      <td>119</td>\n",
       "      <td>3280</td>\n",
       "    </tr>\n",
       "  </tbody>\n",
       "</table>\n",
       "</div>"
      ],
      "text/plain": [
       "                 Predicted Negative  Predicted Positive\n",
       "Actual Negative                 230                  45\n",
       "Actual Positive                 119                3280"
      ]
     },
     "execution_count": 74,
     "metadata": {},
     "output_type": "execute_result"
    }
   ],
   "source": [
    "poly_kernel_svm_clf = grid_search.best_estimator_\n",
    "poly_kernel_svm_clf.fit(X_train_2, y_train_2)\n",
    "y_pred = poly_kernel_svm_clf.predict(X_test)\n",
    "y_score = poly_kernel_svm_clf.predict_proba(X_test)[:, 1]\n",
    "\n",
    "get_confusion_matrix(y_test, y_pred)"
   ]
  },
  {
   "cell_type": "code",
   "execution_count": 75,
   "id": "41321af7",
   "metadata": {},
   "outputs": [
    {
     "name": "stdout",
     "output_type": "stream",
     "text": [
      "PR AUC is 0.99. ROC AUC is 0.92, Accuracy is 0.96\n"
     ]
    }
   ],
   "source": [
    "pksvm_precision, pksvm_recall, pksvm_pr_auc, pksvm_fpr, pksvm_tpr, pksvm_roc_auc = get_metrics(y_test, y_score, y_pred)"
   ]
  },
  {
   "cell_type": "markdown",
   "id": "fc9b1ef7",
   "metadata": {},
   "source": [
    "#### Gaussian RBF Kernel Support Vector Classifier"
   ]
  },
  {
   "cell_type": "code",
   "execution_count": 77,
   "id": "4b57c780",
   "metadata": {},
   "outputs": [
    {
     "data": {
      "text/plain": [
       "{'C': 100, 'gamma': 0.1}"
      ]
     },
     "execution_count": 77,
     "metadata": {},
     "output_type": "execute_result"
    }
   ],
   "source": [
    "param_grid = [\n",
    "    {'gamma': [0.001, 0.01, 0.1, 1],\n",
    "     'C': [0.1, 1, 10, 100, 1000]}\n",
    "]\n",
    "#https://scikit-learn.org/stable/modules/svm.html#svm-kernels\n",
    "rbf_kernel_svm_clf = SVC(kernel = 'rbf',\n",
    "                         probability = True,\n",
    "                         class_weight=class_weights)\n",
    "\n",
    "grid_search = GridSearchCV(rbf_kernel_svm_clf, param_grid, cv=2,\n",
    "                          scoring = 'average_precision',\n",
    "                          return_train_score = True)\n",
    "\n",
    "grid_search.fit(X_train_2, y_train_2)\n",
    "\n",
    "grid_search.best_params_"
   ]
  },
  {
   "cell_type": "code",
   "execution_count": 78,
   "id": "01191fa1",
   "metadata": {},
   "outputs": [
    {
     "data": {
      "text/html": [
       "<div>\n",
       "<style scoped>\n",
       "    .dataframe tbody tr th:only-of-type {\n",
       "        vertical-align: middle;\n",
       "    }\n",
       "\n",
       "    .dataframe tbody tr th {\n",
       "        vertical-align: top;\n",
       "    }\n",
       "\n",
       "    .dataframe thead th {\n",
       "        text-align: right;\n",
       "    }\n",
       "</style>\n",
       "<table border=\"1\" class=\"dataframe\">\n",
       "  <thead>\n",
       "    <tr style=\"text-align: right;\">\n",
       "      <th></th>\n",
       "      <th>Predicted Negative</th>\n",
       "      <th>Predicted Positive</th>\n",
       "    </tr>\n",
       "  </thead>\n",
       "  <tbody>\n",
       "    <tr>\n",
       "      <th>Actual Negative</th>\n",
       "      <td>172</td>\n",
       "      <td>103</td>\n",
       "    </tr>\n",
       "    <tr>\n",
       "      <th>Actual Positive</th>\n",
       "      <td>236</td>\n",
       "      <td>3163</td>\n",
       "    </tr>\n",
       "  </tbody>\n",
       "</table>\n",
       "</div>"
      ],
      "text/plain": [
       "                 Predicted Negative  Predicted Positive\n",
       "Actual Negative                 172                 103\n",
       "Actual Positive                 236                3163"
      ]
     },
     "execution_count": 78,
     "metadata": {},
     "output_type": "execute_result"
    }
   ],
   "source": [
    "rbf_kernel_svm_clf = grid_search.best_estimator_\n",
    "rbf_kernel_svm_clf.fit(X_train_2, y_train_2)\n",
    "y_pred = rbf_kernel_svm_clf.predict(X_test)\n",
    "y_score = rbf_kernel_svm_clf.predict_proba(X_test)[:, 1]\n",
    "\n",
    "get_confusion_matrix(y_test, y_pred)"
   ]
  },
  {
   "cell_type": "code",
   "execution_count": 79,
   "id": "826ab523",
   "metadata": {},
   "outputs": [
    {
     "name": "stdout",
     "output_type": "stream",
     "text": [
      "PR AUC is 0.98. ROC AUC is 0.87, Accuracy is 0.91\n"
     ]
    }
   ],
   "source": [
    "rbfksvm_precision, rbfksvm_recall, rbfksvm_pr_auc, rbfksvm_fpr, rbfksvm_tpr, rbfksvm_roc_auc = get_metrics(y_test, y_score, y_pred)"
   ]
  },
  {
   "cell_type": "markdown",
   "id": "02b09d95",
   "metadata": {},
   "source": [
    "#### Stacking/Stacked Generalization"
   ]
  },
  {
   "cell_type": "code",
   "execution_count": 81,
   "id": "45c3f5fe",
   "metadata": {},
   "outputs": [
    {
     "data": {
      "text/html": [
       "<div>\n",
       "<style scoped>\n",
       "    .dataframe tbody tr th:only-of-type {\n",
       "        vertical-align: middle;\n",
       "    }\n",
       "\n",
       "    .dataframe tbody tr th {\n",
       "        vertical-align: top;\n",
       "    }\n",
       "\n",
       "    .dataframe thead th {\n",
       "        text-align: right;\n",
       "    }\n",
       "</style>\n",
       "<table border=\"1\" class=\"dataframe\">\n",
       "  <thead>\n",
       "    <tr style=\"text-align: right;\">\n",
       "      <th></th>\n",
       "      <th>Predicted Negative</th>\n",
       "      <th>Predicted Positive</th>\n",
       "    </tr>\n",
       "  </thead>\n",
       "  <tbody>\n",
       "    <tr>\n",
       "      <th>Actual Negative</th>\n",
       "      <td>247</td>\n",
       "      <td>28</td>\n",
       "    </tr>\n",
       "    <tr>\n",
       "      <th>Actual Positive</th>\n",
       "      <td>2054</td>\n",
       "      <td>1345</td>\n",
       "    </tr>\n",
       "  </tbody>\n",
       "</table>\n",
       "</div>"
      ],
      "text/plain": [
       "                 Predicted Negative  Predicted Positive\n",
       "Actual Negative                 247                  28\n",
       "Actual Positive                2054                1345"
      ]
     },
     "execution_count": 81,
     "metadata": {},
     "output_type": "execute_result"
    }
   ],
   "source": [
    "base_learners = [\n",
    "    ('rf', rf_classifier),\n",
    "    ('sgd', sgd_clf),\n",
    "    ('xgb', xgb_classifier),\n",
    "]\n",
    "\n",
    "meta_learner = LogisticRegression(class_weight=class_weights)\n",
    "\n",
    "stacking_model = StackingClassifier(estimators=base_learners, final_estimator=meta_learner)\n",
    "\n",
    "stacking_model.fit(X_train_resampled, y_train_resampled)\n",
    "y_pred = stacking_model.predict(X_test)\n",
    "y_score = stacking_model.predict_proba(X_test)[:, 1]\n",
    "\n",
    "get_confusion_matrix(y_test, y_pred)"
   ]
  },
  {
   "cell_type": "code",
   "execution_count": 82,
   "id": "78d1c367",
   "metadata": {},
   "outputs": [
    {
     "name": "stdout",
     "output_type": "stream",
     "text": [
      "PR AUC is 0.97. ROC AUC is 0.81, Accuracy is 0.43\n"
     ]
    }
   ],
   "source": [
    "stack_precision, stack_recall, stack_pr_auc, stack_fpr, stack_tpr, stack_roc_auc = get_metrics(y_test, y_score, y_pred)"
   ]
  },
  {
   "cell_type": "code",
   "execution_count": 83,
   "id": "57dcf2e5",
   "metadata": {
    "scrolled": true
   },
   "outputs": [
    {
     "data": {
      "image/png": "[encoded data removed]",
      "text/plain": [
       "<Figure size 800x600 with 1 Axes>"
      ]
     },
     "metadata": {},
     "output_type": "display_data"
    }
   ],
   "source": [
    "plt.figure(figsize=(8, 6))\n",
    "\n",
    "\n",
    "plt.plot(xgb_recall, xgb_precision, color='r', lw=2, label=f'XGB PR Curve (AUC = {xgb_pr_auc:.2f})')\n",
    "plt.plot(stack_recall, stack_precision, color='b', lw=2, label=f'Stacking PR Curve (AUC = {stack_pr_auc:.2f})')\n",
    "plt.plot(rf_recall, rf_precision, color='g', lw=2, label=f'Random Forest PR Curve (AUC = {rf_pr_auc:.2f})')\n",
    "plt.plot(mbgd_recall, mbgd_precision, color='y', lw=2, label=f'MBGD PR Curve (AUC = {mbgd_pr_auc:.2f})')\n",
    "plt.plot(lsvm_recall, lsvm_precision, color='m', lw=2, label=f'Linear SVM PR Curve (AUC = {lsvm_pr_auc:.2f})')\n",
    "plt.plot(pksvm_recall, pksvm_precision, color='k', lw=2, label=f'Poly Kernel SVM PR Curve (AUC = {pksvm_pr_auc:.2f})')\n",
    "plt.plot(rbfksvm_recall, rbfksvm_precision, color='#FF5733', lw=2, label=f'RBF Kernel SVM PR Curve (AUC = {rbfksvm_pr_auc:.2f})')\n",
    "plt.plot(lg_recall, lg_precision, color='c', lw=2, label=f'LR PR Curve (AUC = {lg_pr_auc:.2f})')\n",
    "\n",
    "plt.xlabel('Recall')\n",
    "plt.ylabel('Precision')\n",
    "plt.title('Classifier Precision-Recall Curves')\n",
    "plt.legend(loc='upper right')\n",
    "plt.grid(True)\n",
    "plt.show()"
   ]
  },
  {
   "cell_type": "code",
   "execution_count": 84,
   "id": "f696c07a",
   "metadata": {},
   "outputs": [
    {
     "data": {
      "image/png": "[encoded data removed]",
      "text/plain": [
       "<Figure size 800x600 with 1 Axes>"
      ]
     },
     "metadata": {},
     "output_type": "display_data"
    }
   ],
   "source": [
    "plt.figure(figsize=(8, 6))\n",
    "\n",
    "plt.plot(xgb_fpr, xgb_tpr, color='r', lw=2, label=f'XGB ROC Curve (AUC = {xgb_roc_auc:.2f})')\n",
    "plt.plot(stack_fpr, stack_tpr, color='b', lw=2, label=f'Stacking PR Curve (AUC = {stack_roc_auc:.2f})')\n",
    "plt.plot(rf_fpr, rf_tpr, color='g', lw=2, label=f'Random Forest PR Curve (AUC = {rf_roc_auc:.2f})')\n",
    "plt.plot(mbgd_fpr, mbgd_tpr, color='y', lw=2, label=f'MBGD PR Curve (AUC = {mbgd_roc_auc:.2f})')\n",
    "plt.plot(lsvm_fpr, lsvm_tpr, color='m', lw=2, label=f'Linear SVM PR Curve (AUC = {lsvm_roc_auc:.2f})')\n",
    "plt.plot(pksvm_fpr, pksvm_tpr, color='k', lw=2, label=f'Poly Kernel SVM PR Curve (AUC = {pksvm_roc_auc:.2f})')\n",
    "plt.plot(rbfksvm_fpr, rbfksvm_tpr, color='#FF5733', lw=2, label=f'RBF Kernel SVM PR Curve (AUC = {rbfksvm_roc_auc:.2f})')\n",
    "plt.plot(lg_fpr, lg_tpr, color='c', lw=2, label=f'LR PR Curve (AUC = {lg_roc_auc:.2f})')\n",
    "plt.plot([0, 1], [0, 1], color='navy', lw=2, linestyle='--')\n",
    "plt.xlabel('False Positive Rate')\n",
    "plt.ylabel('True Positive Rate')\n",
    "plt.title('Classifier Receiver Operating Characteristic Curves')\n",
    "plt.legend(loc='lower right')\n",
    "plt.grid(True)\n",
    "plt.show()"
   ]
  },
  {
   "cell_type": "code",
   "execution_count": null,
   "id": "e84a0a33",
   "metadata": {},
   "outputs": [],
   "source": []
  },
  {
   "cell_type": "markdown",
   "id": "7ff28fb4",
   "metadata": {},
   "source": [
    "Curious about the new distributions"
   ]
  },
  {
   "cell_type": "markdown",
   "id": "bbcb4546",
   "metadata": {},
   "source": [
    "#### Visualization of Categorical Features' Distributions"
   ]
  },
  {
   "cell_type": "code",
   "execution_count": 87,
   "id": "f786ca85-273a-4e26-9857-cda7923eb48d",
   "metadata": {},
   "outputs": [
    {
     "name": "stdout",
     "output_type": "stream",
     "text": [
      "<class 'pandas.core.frame.DataFrame'>\n",
      "Index: 18370 entries, 40 to 3682\n",
      "Data columns (total 35 columns):\n",
      " #   Column                           Non-Null Count  Dtype  \n",
      "---  ------                           --------------  -----  \n",
      " 0   id                               18370 non-null  int64  \n",
      " 1   emp_length_num                   18370 non-null  int64  \n",
      " 2   Debt-To-Income Ratio             18370 non-null  float64\n",
      " 3   revol_util                       18370 non-null  float64\n",
      " 4   od_ratio                         18370 non-null  float64\n",
      " 5   annual_income_log                18370 non-null  float64\n",
      " 6   grade_A                          18370 non-null  bool   \n",
      " 7   grade_B                          18370 non-null  bool   \n",
      " 8   grade_C                          18370 non-null  bool   \n",
      " 9   grade_D                          18370 non-null  bool   \n",
      " 10  grade_E                          18370 non-null  bool   \n",
      " 11  grade_F                          18370 non-null  bool   \n",
      " 12  grade_G                          18370 non-null  bool   \n",
      " 13  home_ownership_MORTGAGE          18370 non-null  bool   \n",
      " 14  home_ownership_OWN               18370 non-null  bool   \n",
      " 15  home_ownership_RENT              18370 non-null  bool   \n",
      " 16  purpose_car                      18370 non-null  bool   \n",
      " 17  purpose_credit_card              18370 non-null  bool   \n",
      " 18  purpose_debt_consolidation       18370 non-null  bool   \n",
      " 19  purpose_home_improvement         18370 non-null  bool   \n",
      " 20  purpose_house                    18370 non-null  bool   \n",
      " 21  purpose_major_purchase           18370 non-null  bool   \n",
      " 22  purpose_medical                  18370 non-null  bool   \n",
      " 23  purpose_moving                   18370 non-null  bool   \n",
      " 24  purpose_other                    18370 non-null  bool   \n",
      " 25  purpose_small_business           18370 non-null  bool   \n",
      " 26  purpose_vacation                 18370 non-null  bool   \n",
      " 27  purpose_wedding                  18370 non-null  bool   \n",
      " 28  term_36 months                   18370 non-null  bool   \n",
      " 29  term_60 months                   18370 non-null  bool   \n",
      " 30  last_delinq_none_0               18370 non-null  bool   \n",
      " 31  last_delinq_none_1               18370 non-null  bool   \n",
      " 32  total_rec_late_fee_cat_non-zero  18370 non-null  bool   \n",
      " 33  total_rec_late_fee_cat_zero      18370 non-null  bool   \n",
      " 34  new_label                        18370 non-null  int8   \n",
      "dtypes: bool(28), float64(4), int64(2), int8(1)\n",
      "memory usage: 1.5 MB\n"
     ]
    }
   ],
   "source": [
    "df_new.info()"
   ]
  },
  {
   "cell_type": "code",
   "execution_count": 88,
   "id": "81801a33",
   "metadata": {},
   "outputs": [],
   "source": [
    "original_cols = ['grade','home','purpose', 'term','last', 'total']\n",
    "df_joined_copied = df_new.copy() #df_joined_copied is throw-away for graphing categorical features' distributions only"
   ]
  },
  {
   "cell_type": "code",
   "execution_count": 89,
   "id": "9beb93ae",
   "metadata": {},
   "outputs": [],
   "source": [
    "for col in original_cols:\n",
    "    df_joined_copied[col] = pd.Series(dtype=str)\n",
    "\n",
    "for encoded_col in df_new.columns:\n",
    "    feature_name = encoded_col.split('_')[0]\n",
    "    if feature_name not in original_cols:\n",
    "        continue\n",
    "    special_char_index = encoded_col.index('_')\n",
    "    sliced_string = encoded_col[special_char_index+1:]\n",
    "    indices = df_new[df_new[encoded_col]==1].index\n",
    "    df_joined_copied.loc[indices, feature_name]=sliced_string"
   ]
  },
  {
   "cell_type": "code",
   "execution_count": 90,
   "id": "9a653b0c",
   "metadata": {},
   "outputs": [
    {
     "data": {
      "image/png": "[encoded data removed]",
      "text/plain": [
       "<Figure size 640x480 with 1 Axes>"
      ]
     },
     "metadata": {},
     "output_type": "display_data"
    }
   ],
   "source": [
    "grade_order = ['A', 'B', 'C', 'D', 'E', 'F', 'G']\n",
    "sns.countplot(x=df_joined_copied.grade, hue=df_joined_copied.new_label, order=grade_order);\n",
    "plt.title('Loan Grade Distribution');"
   ]
  },
  {
   "cell_type": "code",
   "execution_count": 91,
   "id": "0d6b2ced",
   "metadata": {},
   "outputs": [
    {
     "data": {
      "image/png": "[encoded data removed]",
      "text/plain": [
       "<Figure size 640x480 with 1 Axes>"
      ]
     },
     "metadata": {},
     "output_type": "display_data"
    }
   ],
   "source": [
    "sns.countplot(x=df_joined_copied.home, hue=df_joined_copied.new_label);\n",
    "plt.title('Home Ownership Distribution');"
   ]
  },
  {
   "cell_type": "code",
   "execution_count": 92,
   "id": "6016cb83",
   "metadata": {},
   "outputs": [
    {
     "data": {
      "image/png": "[encoded data removed]",
      "text/plain": [
       "<Figure size 640x480 with 1 Axes>"
      ]
     },
     "metadata": {},
     "output_type": "display_data"
    }
   ],
   "source": [
    "sns.countplot(x=df_joined_copied.purpose, hue=df_joined_copied.new_label);\n",
    "plt.xticks(rotation=45)\n",
    "plt.title('Loan Purpose Distribution');"
   ]
  },
  {
   "cell_type": "code",
   "execution_count": 93,
   "id": "642e3dd9",
   "metadata": {},
   "outputs": [
    {
     "data": {
      "image/png": "[encoded data removed]",
      "text/plain": [
       "<Figure size 640x480 with 1 Axes>"
      ]
     },
     "metadata": {},
     "output_type": "display_data"
    }
   ],
   "source": [
    "sns.countplot(x=df_joined_copied.term, hue=df_joined_copied.new_label);\n",
    "plt.title('Loan Term Distribution');"
   ]
  },
  {
   "cell_type": "code",
   "execution_count": 94,
   "id": "9dddcaac",
   "metadata": {},
   "outputs": [
    {
     "data": {
      "image/png": "[encoded data removed]",
      "text/plain": [
       "<Figure size 640x480 with 1 Axes>"
      ]
     },
     "metadata": {},
     "output_type": "display_data"
    }
   ],
   "source": [
    "#Last _ delinq _ none - 1 when the debit has been in default at least once.\n",
    "sns.countplot(x=df_joined_copied['last'], hue=df_joined_copied.new_label);\n",
    "plt.title('Default Histroy');"
   ]
  },
  {
   "cell_type": "code",
   "execution_count": 95,
   "id": "f7674c60-2e0d-4655-bb44-2c92985d1696",
   "metadata": {},
   "outputs": [
    {
     "data": {
      "image/png": "[encoded data removed]",
      "text/plain": [
       "<Figure size 640x480 with 1 Axes>"
      ]
     },
     "metadata": {},
     "output_type": "display_data"
    }
   ],
   "source": [
    "sns.countplot(x=df_joined_copied['total'], hue=df_joined_copied.new_label);\n",
    "plt.title('Received Late Fee Or Not');"
   ]
  },
  {
   "cell_type": "markdown",
   "id": "3b8f5363",
   "metadata": {},
   "source": [
    "#### Visualization of Continuous Features' Distributions"
   ]
  },
  {
   "cell_type": "code",
   "execution_count": 97,
   "id": "cd890a78",
   "metadata": {},
   "outputs": [
    {
     "data": {
      "image/png": "[encoded data removed]",
      "text/plain": [
       "<Figure size 640x480 with 1 Axes>"
      ]
     },
     "metadata": {},
     "output_type": "display_data"
    }
   ],
   "source": [
    "sns.boxplot(y='emp_length_num',\n",
    "                x ='new_label',\n",
    "                data=df_new,\n",
    "           palette = 'colorblind');\n",
    "plt.title('Employment Length in Years')\n",
    "plt.show()"
   ]
  },
  {
   "cell_type": "code",
   "execution_count": 98,
   "id": "99c0fe82",
   "metadata": {},
   "outputs": [
    {
     "data": {
      "image/png": "[encoded data removed]",
      "text/plain": [
       "<Figure size 640x480 with 1 Axes>"
      ]
     },
     "metadata": {},
     "output_type": "display_data"
    }
   ],
   "source": [
    "sns.boxplot(y='Debt-To-Income Ratio',\n",
    "                x='new_label',\n",
    "                data=df_new,\n",
    "           palette = 'colorblind');\n",
    "plt.title('Debt to Income Ratio')\n",
    "plt.show()"
   ]
  },
  {
   "cell_type": "code",
   "execution_count": 99,
   "id": "dc527408",
   "metadata": {},
   "outputs": [
    {
     "data": {
      "image/png": "[encoded data removed]",
      "text/plain": [
       "<Figure size 640x480 with 1 Axes>"
      ]
     },
     "metadata": {},
     "output_type": "display_data"
    }
   ],
   "source": [
    "sns.boxplot(y='revol_util',\n",
    "                x='new_label',\n",
    "                data=df_new,\n",
    "           palette = 'colorblind');\n",
    "plt.title('Revolving Credit Utilization Rate')\n",
    "plt.show()"
   ]
  },
  {
   "cell_type": "code",
   "execution_count": 100,
   "id": "f45a93b2",
   "metadata": {},
   "outputs": [
    {
     "data": {
      "image/png": "[encoded data removed]",
      "text/plain": [
       "<Figure size 640x480 with 1 Axes>"
      ]
     },
     "metadata": {},
     "output_type": "display_data"
    }
   ],
   "source": [
    "sns.boxplot(y='od_ratio',\n",
    "                x='new_label',\n",
    "                data=df_new,\n",
    "           palette = 'colorblind');\n",
    "plt.title('Overdraft Ratio')\n",
    "plt.show()"
   ]
  },
  {
   "cell_type": "code",
   "execution_count": 101,
   "id": "6e5cd22f",
   "metadata": {},
   "outputs": [
    {
     "data": {
      "image/png": "[encoded data removed]",
      "text/plain": [
       "<Figure size 640x480 with 1 Axes>"
      ]
     },
     "metadata": {},
     "output_type": "display_data"
    }
   ],
   "source": [
    "sns.boxplot(y='annual_income_log',\n",
    "                x='new_label',\n",
    "                data=df_new,\n",
    "           palette = 'colorblind');\n",
    "plt.title('Annual Income logged')\n",
    "plt.show()"
   ]
  },
  {
   "cell_type": "code",
   "execution_count": null,
   "id": "78982f8e",
   "metadata": {},
   "outputs": [],
   "source": []
  },
  {
   "cell_type": "code",
   "execution_count": null,
   "id": "54d61d8f",
   "metadata": {},
   "outputs": [],
   "source": []
  }
 ],
 "metadata": {
  "kernelspec": {
   "display_name": "Python 3 (ipykernel)",
   "language": "python",
   "name": "python3"
  },
  "language_info": {
   "codemirror_mode": {
    "name": "ipython",
    "version": 3
   },
   "file_extension": ".py",
   "mimetype": "text/x-python",
   "name": "python",
   "nbconvert_exporter": "python",
   "pygments_lexer": "ipython3",
   "version": "3.9.20"
  }
 },
 "nbformat": 4,
 "nbformat_minor": 5
}
